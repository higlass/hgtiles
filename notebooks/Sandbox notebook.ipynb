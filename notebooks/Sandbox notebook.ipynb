{
 "cells": [
  {
   "cell_type": "code",
   "execution_count": 2,
   "metadata": {},
   "outputs": [],
   "source": [
    "%load_ext autoreload\n",
    "%autoreload 2"
   ]
  },
  {
   "cell_type": "code",
   "execution_count": 25,
   "metadata": {},
   "outputs": [
    {
     "name": "stdout",
     "output_type": "stream",
     "text": [
      "z: 0 dset_length: 1000000\n",
      "summing...fdsdsfs: 15625 64\n",
      "chunks: (1000000.0,) 64 len: 1000000\n",
      "zoom_factor 64 (1000000,)\n",
      " done\n",
      "z: 6 dset_length: 15625\n",
      "summing...fdsdsfs: 245 64\n",
      "chunks: (1000000.0,) 64 len: 15680\n",
      "zoom_factor 64 (15680,)\n",
      " done\n"
     ]
    }
   ],
   "source": [
    "import dask.array as da\n",
    "import hgtiles.hitile as hghi\n",
    "import numpy as np\n",
    "import os\n",
    "\n",
    "array_size = int(1e6)\n",
    "chunk_size = 2**19\n",
    "    \n",
    "data = da.from_array(np.random.random((array_size,)), chunks=(chunk_size,))\n",
    "output_file = '/tmp/blah.hitile'\n",
    "hghi.array_to_hitile(data, output_file, zoom_step=6)"
   ]
  },
  {
   "cell_type": "code",
   "execution_count": 26,
   "metadata": {},
   "outputs": [
    {
     "name": "stdout",
     "output_type": "stream",
     "text": [
      "processes: {'arHWxYaLQwSjFlhXM40ceQ': <Process(Process-7, started)>}\n",
      "terminating: arHWxYaLQwSjFlhXM40ceQ\n"
     ]
    },
    {
     "name": "stderr",
     "output_type": "stream",
     "text": [
      " * Running on http://0.0.0.0:8757/ (Press CTRL+C to quit)\n"
     ]
    },
    {
     "name": "stdout",
     "output_type": "stream",
     "text": [
      "sleeping\n"
     ]
    },
    {
     "name": "stderr",
     "output_type": "stream",
     "text": [
      "127.0.0.1 - - [06/Sep/2018 23:12:41] \"\u001b[37mGET /api/v1/tileset_info/?d=x HTTP/1.1\u001b[0m\" 200 -\n",
      "127.0.0.1 - - [06/Sep/2018 23:12:41] \"\u001b[37mGET /api/v1/tiles/?d=a.0.0 HTTP/1.1\u001b[0m\" 200 -\n",
      "127.0.0.1 - - [06/Sep/2018 23:12:48] \"\u001b[37mOPTIONS /api/v1/tileset_info/?d=a&s=Vxh4M3MDTaKHl9JgQHRptA HTTP/1.1\u001b[0m\" 200 -\n"
     ]
    },
    {
     "name": "stdout",
     "output_type": "stream",
     "text": [
      "filetype: hitile\n"
     ]
    },
    {
     "name": "stderr",
     "output_type": "stream",
     "text": [
      "127.0.0.1 - - [06/Sep/2018 23:12:48] \"\u001b[37mGET /api/v1/tileset_info/?d=a&s=Vxh4M3MDTaKHl9JgQHRptA HTTP/1.1\u001b[0m\" 200 -\n",
      "127.0.0.1 - - [06/Sep/2018 23:12:48] \"\u001b[37mOPTIONS /api/v1/tiles/?d=a.10.0&d=a.0.0&s=Vxh4M3MDTaKHl9JgQHRptA HTTP/1.1\u001b[0m\" 200 -\n",
      "127.0.0.1 - - [06/Sep/2018 23:12:48] \"\u001b[37mGET /api/v1/tiles/?d=a.10.0&d=a.0.0&s=Vxh4M3MDTaKHl9JgQHRptA HTTP/1.1\u001b[0m\" 200 -\n",
      "127.0.0.1 - - [06/Sep/2018 23:13:03] \"\u001b[37mOPTIONS /api/v1/tiles/?d=a.1.0&d=a.1.1&s=Vxh4M3MDTaKHl9JgQHRptA HTTP/1.1\u001b[0m\" 200 -\n",
      "127.0.0.1 - - [06/Sep/2018 23:13:03] \"\u001b[37mGET /api/v1/tiles/?d=a.1.0&d=a.1.1&s=Vxh4M3MDTaKHl9JgQHRptA HTTP/1.1\u001b[0m\" 200 -\n",
      "127.0.0.1 - - [06/Sep/2018 23:13:04] \"\u001b[37mOPTIONS /api/v1/tiles/?d=a.2.1&d=a.2.2&s=Vxh4M3MDTaKHl9JgQHRptA HTTP/1.1\u001b[0m\" 200 -\n",
      "127.0.0.1 - - [06/Sep/2018 23:13:04] \"\u001b[37mGET /api/v1/tiles/?d=a.2.1&d=a.2.2&s=Vxh4M3MDTaKHl9JgQHRptA HTTP/1.1\u001b[0m\" 200 -\n",
      "127.0.0.1 - - [06/Sep/2018 23:13:05] \"\u001b[37mOPTIONS /api/v1/tiles/?d=a.3.3&d=a.3.4&s=Vxh4M3MDTaKHl9JgQHRptA HTTP/1.1\u001b[0m\" 200 -\n",
      "127.0.0.1 - - [06/Sep/2018 23:13:05] \"\u001b[37mGET /api/v1/tiles/?d=a.3.3&d=a.3.4&s=Vxh4M3MDTaKHl9JgQHRptA HTTP/1.1\u001b[0m\" 200 -\n",
      "127.0.0.1 - - [06/Sep/2018 23:13:05] \"\u001b[37mOPTIONS /api/v1/tiles/?d=a.4.7&d=a.4.8&s=Vxh4M3MDTaKHl9JgQHRptA HTTP/1.1\u001b[0m\" 200 -\n",
      "127.0.0.1 - - [06/Sep/2018 23:13:05] \"\u001b[37mGET /api/v1/tiles/?d=a.4.7&d=a.4.8&s=Vxh4M3MDTaKHl9JgQHRptA HTTP/1.1\u001b[0m\" 200 -\n",
      "127.0.0.1 - - [06/Sep/2018 23:13:06] \"\u001b[37mOPTIONS /api/v1/tiles/?d=a.5.15&s=Vxh4M3MDTaKHl9JgQHRptA HTTP/1.1\u001b[0m\" 200 -\n",
      "127.0.0.1 - - [06/Sep/2018 23:13:06] \"\u001b[37mGET /api/v1/tiles/?d=a.5.15&s=Vxh4M3MDTaKHl9JgQHRptA HTTP/1.1\u001b[0m\" 200 -\n",
      "127.0.0.1 - - [06/Sep/2018 23:13:06] \"\u001b[37mOPTIONS /api/v1/tiles/?d=a.6.30&d=a.6.31&s=Vxh4M3MDTaKHl9JgQHRptA HTTP/1.1\u001b[0m\" 200 -\n",
      "127.0.0.1 - - [06/Sep/2018 23:13:06] \"\u001b[37mGET /api/v1/tiles/?d=a.6.30&d=a.6.31&s=Vxh4M3MDTaKHl9JgQHRptA HTTP/1.1\u001b[0m\" 200 -\n",
      "127.0.0.1 - - [06/Sep/2018 23:13:07] \"\u001b[37mOPTIONS /api/v1/tiles/?d=a.7.62&s=Vxh4M3MDTaKHl9JgQHRptA HTTP/1.1\u001b[0m\" 200 -\n",
      "127.0.0.1 - - [06/Sep/2018 23:13:07] \"\u001b[37mGET /api/v1/tiles/?d=a.7.62&s=Vxh4M3MDTaKHl9JgQHRptA HTTP/1.1\u001b[0m\" 200 -\n",
      "127.0.0.1 - - [06/Sep/2018 23:13:08] \"\u001b[37mOPTIONS /api/v1/tiles/?d=a.8.124&d=a.8.125&s=Vxh4M3MDTaKHl9JgQHRptA HTTP/1.1\u001b[0m\" 200 -\n",
      "127.0.0.1 - - [06/Sep/2018 23:13:08] \"\u001b[37mGET /api/v1/tiles/?d=a.8.124&d=a.8.125&s=Vxh4M3MDTaKHl9JgQHRptA HTTP/1.1\u001b[0m\" 200 -\n",
      "127.0.0.1 - - [06/Sep/2018 23:13:09] \"\u001b[37mOPTIONS /api/v1/tiles/?d=a.7.62&s=Vxh4M3MDTaKHl9JgQHRptA HTTP/1.1\u001b[0m\" 200 -\n",
      "127.0.0.1 - - [06/Sep/2018 23:13:09] \"\u001b[37mGET /api/v1/tiles/?d=a.7.62&s=Vxh4M3MDTaKHl9JgQHRptA HTTP/1.1\u001b[0m\" 200 -\n",
      "127.0.0.1 - - [06/Sep/2018 23:13:10] \"\u001b[37mOPTIONS /api/v1/tiles/?d=a.8.124&d=a.8.125&s=Vxh4M3MDTaKHl9JgQHRptA HTTP/1.1\u001b[0m\" 200 -\n",
      "127.0.0.1 - - [06/Sep/2018 23:13:10] \"\u001b[37mGET /api/v1/tiles/?d=a.8.124&d=a.8.125&s=Vxh4M3MDTaKHl9JgQHRptA HTTP/1.1\u001b[0m\" 200 -\n",
      "127.0.0.1 - - [06/Sep/2018 23:13:11] \"\u001b[37mOPTIONS /api/v1/tiles/?d=a.7.62&s=Vxh4M3MDTaKHl9JgQHRptA HTTP/1.1\u001b[0m\" 200 -\n",
      "127.0.0.1 - - [06/Sep/2018 23:13:11] \"\u001b[37mGET /api/v1/tiles/?d=a.7.62&s=Vxh4M3MDTaKHl9JgQHRptA HTTP/1.1\u001b[0m\" 200 -\n",
      "127.0.0.1 - - [06/Sep/2018 23:13:12] \"\u001b[37mOPTIONS /api/v1/tiles/?d=a.6.31&s=Vxh4M3MDTaKHl9JgQHRptA HTTP/1.1\u001b[0m\" 200 -\n",
      "127.0.0.1 - - [06/Sep/2018 23:13:12] \"\u001b[37mGET /api/v1/tiles/?d=a.6.31&s=Vxh4M3MDTaKHl9JgQHRptA HTTP/1.1\u001b[0m\" 200 -\n",
      "127.0.0.1 - - [06/Sep/2018 23:13:13] \"\u001b[37mOPTIONS /api/v1/tiles/?d=a.6.30&s=Vxh4M3MDTaKHl9JgQHRptA HTTP/1.1\u001b[0m\" 200 -\n",
      "127.0.0.1 - - [06/Sep/2018 23:13:13] \"\u001b[37mGET /api/v1/tiles/?d=a.6.30&s=Vxh4M3MDTaKHl9JgQHRptA HTTP/1.1\u001b[0m\" 200 -\n",
      "127.0.0.1 - - [06/Sep/2018 23:13:13] \"\u001b[37mOPTIONS /api/v1/tiles/?d=a.5.15&s=Vxh4M3MDTaKHl9JgQHRptA HTTP/1.1\u001b[0m\" 200 -\n",
      "127.0.0.1 - - [06/Sep/2018 23:13:13] \"\u001b[37mGET /api/v1/tiles/?d=a.5.15&s=Vxh4M3MDTaKHl9JgQHRptA HTTP/1.1\u001b[0m\" 200 -\n",
      "127.0.0.1 - - [06/Sep/2018 23:13:15] \"\u001b[37mOPTIONS /api/v1/tiles/?d=a.4.7&d=a.4.8&s=Vxh4M3MDTaKHl9JgQHRptA HTTP/1.1\u001b[0m\" 200 -\n",
      "127.0.0.1 - - [06/Sep/2018 23:13:15] \"\u001b[37mGET /api/v1/tiles/?d=a.4.7&d=a.4.8&s=Vxh4M3MDTaKHl9JgQHRptA HTTP/1.1\u001b[0m\" 200 -\n",
      "127.0.0.1 - - [06/Sep/2018 23:13:16] \"\u001b[37mOPTIONS /api/v1/tiles/?d=a.3.3&d=a.3.4&s=Vxh4M3MDTaKHl9JgQHRptA HTTP/1.1\u001b[0m\" 200 -\n",
      "127.0.0.1 - - [06/Sep/2018 23:13:16] \"\u001b[37mGET /api/v1/tiles/?d=a.3.3&d=a.3.4&s=Vxh4M3MDTaKHl9JgQHRptA HTTP/1.1\u001b[0m\" 200 -\n",
      "127.0.0.1 - - [06/Sep/2018 23:13:16] \"\u001b[37mOPTIONS /api/v1/tiles/?d=a.2.1&d=a.2.2&s=Vxh4M3MDTaKHl9JgQHRptA HTTP/1.1\u001b[0m\" 200 -\n",
      "127.0.0.1 - - [06/Sep/2018 23:13:17] \"\u001b[37mGET /api/v1/tiles/?d=a.2.1&d=a.2.2&s=Vxh4M3MDTaKHl9JgQHRptA HTTP/1.1\u001b[0m\" 200 -\n",
      "127.0.0.1 - - [06/Sep/2018 23:13:17] \"\u001b[37mOPTIONS /api/v1/tiles/?d=a.3.3&d=a.3.4&s=Vxh4M3MDTaKHl9JgQHRptA HTTP/1.1\u001b[0m\" 200 -\n",
      "127.0.0.1 - - [06/Sep/2018 23:13:17] \"\u001b[37mGET /api/v1/tiles/?d=a.3.3&d=a.3.4&s=Vxh4M3MDTaKHl9JgQHRptA HTTP/1.1\u001b[0m\" 200 -\n",
      "127.0.0.1 - - [06/Sep/2018 23:13:17] \"\u001b[37mOPTIONS /api/v1/tiles/?d=a.4.7&d=a.4.8&s=Vxh4M3MDTaKHl9JgQHRptA HTTP/1.1\u001b[0m\" 200 -\n",
      "127.0.0.1 - - [06/Sep/2018 23:13:17] \"\u001b[37mGET /api/v1/tiles/?d=a.4.7&d=a.4.8&s=Vxh4M3MDTaKHl9JgQHRptA HTTP/1.1\u001b[0m\" 200 -\n",
      "127.0.0.1 - - [06/Sep/2018 23:13:18] \"\u001b[37mOPTIONS /api/v1/tiles/?d=a.5.15&s=Vxh4M3MDTaKHl9JgQHRptA HTTP/1.1\u001b[0m\" 200 -\n",
      "127.0.0.1 - - [06/Sep/2018 23:13:18] \"\u001b[37mGET /api/v1/tiles/?d=a.5.15&s=Vxh4M3MDTaKHl9JgQHRptA HTTP/1.1\u001b[0m\" 200 -\n",
      "127.0.0.1 - - [06/Sep/2018 23:13:19] \"\u001b[37mOPTIONS /api/v1/tiles/?d=a.6.30&d=a.6.31&d=a.7.62&d=a.8.124&d=a.8.125&s=Vxh4M3MDTaKHl9JgQHRptA HTTP/1.1\u001b[0m\" 200 -\n",
      "127.0.0.1 - - [06/Sep/2018 23:13:19] \"\u001b[37mGET /api/v1/tiles/?d=a.6.30&d=a.6.31&d=a.7.62&d=a.8.124&d=a.8.125&s=Vxh4M3MDTaKHl9JgQHRptA HTTP/1.1\u001b[0m\" 200 -\n",
      "127.0.0.1 - - [06/Sep/2018 23:13:19] \"\u001b[37mOPTIONS /api/v1/tiles/?d=a.9.249&d=a.10.499&s=Vxh4M3MDTaKHl9JgQHRptA HTTP/1.1\u001b[0m\" 200 -\n",
      "127.0.0.1 - - [06/Sep/2018 23:13:19] \"\u001b[37mGET /api/v1/tiles/?d=a.9.249&d=a.10.499&s=Vxh4M3MDTaKHl9JgQHRptA HTTP/1.1\u001b[0m\" 200 -\n",
      "127.0.0.1 - - [06/Sep/2018 23:13:28] \"\u001b[37mOPTIONS /api/v1/tileset_info/?d=a&s=CuxR9vZYRl2iscHc9v_YRA HTTP/1.1\u001b[0m\" 200 -\n"
     ]
    },
    {
     "name": "stdout",
     "output_type": "stream",
     "text": [
      "filetype: hitile\n"
     ]
    },
    {
     "name": "stderr",
     "output_type": "stream",
     "text": [
      "127.0.0.1 - - [06/Sep/2018 23:13:28] \"\u001b[37mGET /api/v1/tileset_info/?d=a&s=CuxR9vZYRl2iscHc9v_YRA HTTP/1.1\u001b[0m\" 200 -\n",
      "127.0.0.1 - - [06/Sep/2018 23:13:28] \"\u001b[37mOPTIONS /api/v1/tiles/?d=a.10.0&d=a.0.0&s=CuxR9vZYRl2iscHc9v_YRA HTTP/1.1\u001b[0m\" 200 -\n",
      "127.0.0.1 - - [06/Sep/2018 23:13:28] \"\u001b[37mGET /api/v1/tiles/?d=a.10.0&d=a.0.0&s=CuxR9vZYRl2iscHc9v_YRA HTTP/1.1\u001b[0m\" 200 -\n",
      "127.0.0.1 - - [06/Sep/2018 23:14:34] \"\u001b[37mOPTIONS /api/v1/tileset_info/?d=a&s=K5k0FSE7SMCK2qVaEiDFeg HTTP/1.1\u001b[0m\" 200 -\n"
     ]
    },
    {
     "name": "stdout",
     "output_type": "stream",
     "text": [
      "filetype: hitile\n"
     ]
    },
    {
     "name": "stderr",
     "output_type": "stream",
     "text": [
      "127.0.0.1 - - [06/Sep/2018 23:14:34] \"\u001b[37mGET /api/v1/tileset_info/?d=a&s=K5k0FSE7SMCK2qVaEiDFeg HTTP/1.1\u001b[0m\" 200 -\n",
      "127.0.0.1 - - [06/Sep/2018 23:14:35] \"\u001b[37mOPTIONS /api/v1/tiles/?d=a.10.0&d=a.0.0&s=K5k0FSE7SMCK2qVaEiDFeg HTTP/1.1\u001b[0m\" 200 -\n",
      "127.0.0.1 - - [06/Sep/2018 23:14:35] \"\u001b[37mGET /api/v1/tiles/?d=a.10.0&d=a.0.0&s=K5k0FSE7SMCK2qVaEiDFeg HTTP/1.1\u001b[0m\" 200 -\n",
      "127.0.0.1 - - [06/Sep/2018 23:15:11] \"\u001b[37mOPTIONS /api/v1/tileset_info/?d=a&s=EX6pnaUDRNuIjcybH1l1Dw HTTP/1.1\u001b[0m\" 200 -\n"
     ]
    },
    {
     "name": "stdout",
     "output_type": "stream",
     "text": [
      "filetype: hitile\n"
     ]
    },
    {
     "name": "stderr",
     "output_type": "stream",
     "text": [
      "127.0.0.1 - - [06/Sep/2018 23:15:11] \"\u001b[37mGET /api/v1/tileset_info/?d=a&s=EX6pnaUDRNuIjcybH1l1Dw HTTP/1.1\u001b[0m\" 200 -\n",
      "127.0.0.1 - - [06/Sep/2018 23:15:12] \"\u001b[37mOPTIONS /api/v1/tiles/?d=a.10.0&d=a.0.0&s=EX6pnaUDRNuIjcybH1l1Dw HTTP/1.1\u001b[0m\" 200 -\n",
      "127.0.0.1 - - [06/Sep/2018 23:15:12] \"\u001b[37mGET /api/v1/tiles/?d=a.10.0&d=a.0.0&s=EX6pnaUDRNuIjcybH1l1Dw HTTP/1.1\u001b[0m\" 200 -\n",
      "127.0.0.1 - - [06/Sep/2018 23:15:35] \"\u001b[37mOPTIONS /api/v1/tileset_info/?d=a&s=DPyggiF1QjuNuWcAfWWWQQ HTTP/1.1\u001b[0m\" 200 -\n"
     ]
    },
    {
     "name": "stdout",
     "output_type": "stream",
     "text": [
      "filetype: hitile\n"
     ]
    },
    {
     "name": "stderr",
     "output_type": "stream",
     "text": [
      "127.0.0.1 - - [06/Sep/2018 23:15:35] \"\u001b[37mGET /api/v1/tileset_info/?d=a&s=DPyggiF1QjuNuWcAfWWWQQ HTTP/1.1\u001b[0m\" 200 -\n",
      "127.0.0.1 - - [06/Sep/2018 23:15:35] \"\u001b[37mOPTIONS /api/v1/tiles/?d=a.10.0&d=a.0.0&s=DPyggiF1QjuNuWcAfWWWQQ HTTP/1.1\u001b[0m\" 200 -\n",
      "127.0.0.1 - - [06/Sep/2018 23:15:35] \"\u001b[37mGET /api/v1/tiles/?d=a.10.0&d=a.0.0&s=DPyggiF1QjuNuWcAfWWWQQ HTTP/1.1\u001b[0m\" 200 -\n",
      "127.0.0.1 - - [06/Sep/2018 23:15:51] \"\u001b[37mOPTIONS /api/v1/tileset_info/?d=a&s=enbZHPGLTu-OcGFRSgMsow HTTP/1.1\u001b[0m\" 200 -\n"
     ]
    },
    {
     "name": "stdout",
     "output_type": "stream",
     "text": [
      "filetype: hitile\n"
     ]
    },
    {
     "name": "stderr",
     "output_type": "stream",
     "text": [
      "127.0.0.1 - - [06/Sep/2018 23:15:51] \"\u001b[37mGET /api/v1/tileset_info/?d=a&s=enbZHPGLTu-OcGFRSgMsow HTTP/1.1\u001b[0m\" 200 -\n",
      "127.0.0.1 - - [06/Sep/2018 23:15:51] \"\u001b[37mOPTIONS /api/v1/tiles/?d=a.10.0&d=a.0.0&s=enbZHPGLTu-OcGFRSgMsow HTTP/1.1\u001b[0m\" 200 -\n",
      "127.0.0.1 - - [06/Sep/2018 23:15:51] \"\u001b[37mGET /api/v1/tiles/?d=a.10.0&d=a.0.0&s=enbZHPGLTu-OcGFRSgMsow HTTP/1.1\u001b[0m\" 200 -\n",
      "127.0.0.1 - - [06/Sep/2018 23:17:32] \"\u001b[37mOPTIONS /api/v1/tileset_info/?d=a&s=bDTpGmDdT_GLw_XM2VPpAQ HTTP/1.1\u001b[0m\" 200 -\n"
     ]
    },
    {
     "name": "stdout",
     "output_type": "stream",
     "text": [
      "filetype: hitile\n"
     ]
    },
    {
     "name": "stderr",
     "output_type": "stream",
     "text": [
      "127.0.0.1 - - [06/Sep/2018 23:17:32] \"\u001b[37mGET /api/v1/tileset_info/?d=a&s=bDTpGmDdT_GLw_XM2VPpAQ HTTP/1.1\u001b[0m\" 200 -\n",
      "127.0.0.1 - - [06/Sep/2018 23:17:33] \"\u001b[37mOPTIONS /api/v1/tiles/?d=a.10.0&d=a.0.0&s=bDTpGmDdT_GLw_XM2VPpAQ HTTP/1.1\u001b[0m\" 200 -\n",
      "127.0.0.1 - - [06/Sep/2018 23:17:34] \"\u001b[37mGET /api/v1/tiles/?d=a.10.0&d=a.0.0&s=bDTpGmDdT_GLw_XM2VPpAQ HTTP/1.1\u001b[0m\" 200 -\n",
      "127.0.0.1 - - [06/Sep/2018 23:18:00] \"\u001b[37mOPTIONS /api/v1/tileset_info/?d=a&s=fcGEBJMFRw-3kdDuw_jvlg HTTP/1.1\u001b[0m\" 200 -\n"
     ]
    },
    {
     "name": "stdout",
     "output_type": "stream",
     "text": [
      "filetype: hitile\n"
     ]
    },
    {
     "name": "stderr",
     "output_type": "stream",
     "text": [
      "127.0.0.1 - - [06/Sep/2018 23:18:00] \"\u001b[37mGET /api/v1/tileset_info/?d=a&s=fcGEBJMFRw-3kdDuw_jvlg HTTP/1.1\u001b[0m\" 200 -\n",
      "127.0.0.1 - - [06/Sep/2018 23:18:00] \"\u001b[37mOPTIONS /api/v1/tiles/?d=a.10.0&d=a.0.0&s=fcGEBJMFRw-3kdDuw_jvlg HTTP/1.1\u001b[0m\" 200 -\n",
      "127.0.0.1 - - [06/Sep/2018 23:18:00] \"\u001b[37mGET /api/v1/tiles/?d=a.10.0&d=a.0.0&s=fcGEBJMFRw-3kdDuw_jvlg HTTP/1.1\u001b[0m\" 200 -\n",
      "127.0.0.1 - - [06/Sep/2018 23:18:19] \"\u001b[37mOPTIONS /api/v1/tileset_info/?d=a&s=eLGAKgkDROOnGSwxT-lNrQ HTTP/1.1\u001b[0m\" 200 -\n"
     ]
    },
    {
     "name": "stdout",
     "output_type": "stream",
     "text": [
      "filetype: hitile\n"
     ]
    },
    {
     "name": "stderr",
     "output_type": "stream",
     "text": [
      "127.0.0.1 - - [06/Sep/2018 23:18:19] \"\u001b[37mGET /api/v1/tileset_info/?d=a&s=eLGAKgkDROOnGSwxT-lNrQ HTTP/1.1\u001b[0m\" 200 -\n",
      "127.0.0.1 - - [06/Sep/2018 23:18:20] \"\u001b[37mOPTIONS /api/v1/tiles/?d=a.10.0&d=a.0.0&s=eLGAKgkDROOnGSwxT-lNrQ HTTP/1.1\u001b[0m\" 200 -\n",
      "127.0.0.1 - - [06/Sep/2018 23:18:20] \"\u001b[37mGET /api/v1/tiles/?d=a.10.0&d=a.0.0&s=eLGAKgkDROOnGSwxT-lNrQ HTTP/1.1\u001b[0m\" 200 -\n",
      "127.0.0.1 - - [06/Sep/2018 23:18:44] \"\u001b[37mOPTIONS /api/v1/tileset_info/?d=a&s=SmQYQBx4RNGZj0IDW1f5Qw HTTP/1.1\u001b[0m\" 200 -\n"
     ]
    },
    {
     "name": "stdout",
     "output_type": "stream",
     "text": [
      "filetype: hitile\n"
     ]
    },
    {
     "name": "stderr",
     "output_type": "stream",
     "text": [
      "127.0.0.1 - - [06/Sep/2018 23:18:44] \"\u001b[37mGET /api/v1/tileset_info/?d=a&s=SmQYQBx4RNGZj0IDW1f5Qw HTTP/1.1\u001b[0m\" 200 -\n",
      "127.0.0.1 - - [06/Sep/2018 23:18:44] \"\u001b[37mOPTIONS /api/v1/tiles/?d=a.10.0&d=a.0.0&s=SmQYQBx4RNGZj0IDW1f5Qw HTTP/1.1\u001b[0m\" 200 -\n",
      "127.0.0.1 - - [06/Sep/2018 23:18:45] \"\u001b[37mGET /api/v1/tiles/?d=a.10.0&d=a.0.0&s=SmQYQBx4RNGZj0IDW1f5Qw HTTP/1.1\u001b[0m\" 200 -\n",
      "127.0.0.1 - - [06/Sep/2018 23:18:52] \"\u001b[37mOPTIONS /api/v1/tileset_info/?d=a&s=CXfrsTdPSOCUUTvOLN9JCg HTTP/1.1\u001b[0m\" 200 -\n"
     ]
    },
    {
     "name": "stdout",
     "output_type": "stream",
     "text": [
      "filetype: hitile\n"
     ]
    },
    {
     "name": "stderr",
     "output_type": "stream",
     "text": [
      "127.0.0.1 - - [06/Sep/2018 23:18:52] \"\u001b[37mGET /api/v1/tileset_info/?d=a&s=CXfrsTdPSOCUUTvOLN9JCg HTTP/1.1\u001b[0m\" 200 -\n",
      "127.0.0.1 - - [06/Sep/2018 23:18:52] \"\u001b[37mOPTIONS /api/v1/tiles/?d=a.10.0&d=a.0.0&s=CXfrsTdPSOCUUTvOLN9JCg HTTP/1.1\u001b[0m\" 200 -\n",
      "127.0.0.1 - - [06/Sep/2018 23:18:52] \"\u001b[37mGET /api/v1/tiles/?d=a.10.0&d=a.0.0&s=CXfrsTdPSOCUUTvOLN9JCg HTTP/1.1\u001b[0m\" 200 -\n",
      "127.0.0.1 - - [06/Sep/2018 23:21:23] \"\u001b[37mOPTIONS /api/v1/tileset_info/?d=a&s=Jb45ixx2SC-a6dAL_pZa5w HTTP/1.1\u001b[0m\" 200 -\n"
     ]
    },
    {
     "name": "stdout",
     "output_type": "stream",
     "text": [
      "filetype: hitile\n"
     ]
    },
    {
     "name": "stderr",
     "output_type": "stream",
     "text": [
      "127.0.0.1 - - [06/Sep/2018 23:21:23] \"\u001b[37mGET /api/v1/tileset_info/?d=a&s=Jb45ixx2SC-a6dAL_pZa5w HTTP/1.1\u001b[0m\" 200 -\n",
      "127.0.0.1 - - [06/Sep/2018 23:21:23] \"\u001b[37mOPTIONS /api/v1/tiles/?d=a.10.0&d=a.0.0&s=Jb45ixx2SC-a6dAL_pZa5w HTTP/1.1\u001b[0m\" 200 -\n",
      "127.0.0.1 - - [06/Sep/2018 23:21:23] \"\u001b[37mGET /api/v1/tiles/?d=a.10.0&d=a.0.0&s=Jb45ixx2SC-a6dAL_pZa5w HTTP/1.1\u001b[0m\" 200 -\n",
      "127.0.0.1 - - [06/Sep/2018 23:21:35] \"\u001b[37mOPTIONS /api/v1/tileset_info/?d=a&s=HhwajSwGQ2-11vsJa0Wr3g HTTP/1.1\u001b[0m\" 200 -\n"
     ]
    },
    {
     "name": "stdout",
     "output_type": "stream",
     "text": [
      "filetype: hitile\n"
     ]
    },
    {
     "name": "stderr",
     "output_type": "stream",
     "text": [
      "127.0.0.1 - - [06/Sep/2018 23:21:35] \"\u001b[37mGET /api/v1/tileset_info/?d=a&s=HhwajSwGQ2-11vsJa0Wr3g HTTP/1.1\u001b[0m\" 200 -\n",
      "127.0.0.1 - - [06/Sep/2018 23:21:35] \"\u001b[37mOPTIONS /api/v1/tiles/?d=a.10.0&d=a.0.0&s=HhwajSwGQ2-11vsJa0Wr3g HTTP/1.1\u001b[0m\" 200 -\n",
      "127.0.0.1 - - [06/Sep/2018 23:21:35] \"\u001b[37mGET /api/v1/tiles/?d=a.10.0&d=a.0.0&s=HhwajSwGQ2-11vsJa0Wr3g HTTP/1.1\u001b[0m\" 200 -\n",
      "127.0.0.1 - - [06/Sep/2018 23:21:53] \"\u001b[37mOPTIONS /api/v1/tileset_info/?d=a&s=c9fV9o77TlaHoESGk3SFmw HTTP/1.1\u001b[0m\" 200 -\n"
     ]
    },
    {
     "name": "stdout",
     "output_type": "stream",
     "text": [
      "filetype: hitile\n"
     ]
    },
    {
     "name": "stderr",
     "output_type": "stream",
     "text": [
      "127.0.0.1 - - [06/Sep/2018 23:21:53] \"\u001b[37mGET /api/v1/tileset_info/?d=a&s=c9fV9o77TlaHoESGk3SFmw HTTP/1.1\u001b[0m\" 200 -\n",
      "127.0.0.1 - - [06/Sep/2018 23:21:54] \"\u001b[37mOPTIONS /api/v1/tiles/?d=a.10.0&d=a.0.0&s=c9fV9o77TlaHoESGk3SFmw HTTP/1.1\u001b[0m\" 200 -\n",
      "127.0.0.1 - - [06/Sep/2018 23:21:54] \"\u001b[37mGET /api/v1/tiles/?d=a.10.0&d=a.0.0&s=c9fV9o77TlaHoESGk3SFmw HTTP/1.1\u001b[0m\" 200 -\n",
      "127.0.0.1 - - [06/Sep/2018 23:22:13] \"\u001b[37mOPTIONS /api/v1/tileset_info/?d=a&s=JoyaEM0KRee0FkLOTGTeoQ HTTP/1.1\u001b[0m\" 200 -\n"
     ]
    },
    {
     "name": "stdout",
     "output_type": "stream",
     "text": [
      "filetype: hitile\n"
     ]
    },
    {
     "name": "stderr",
     "output_type": "stream",
     "text": [
      "127.0.0.1 - - [06/Sep/2018 23:22:13] \"\u001b[37mGET /api/v1/tileset_info/?d=a&s=JoyaEM0KRee0FkLOTGTeoQ HTTP/1.1\u001b[0m\" 200 -\n",
      "127.0.0.1 - - [06/Sep/2018 23:22:13] \"\u001b[37mOPTIONS /api/v1/tiles/?d=a.10.0&d=a.0.0&s=JoyaEM0KRee0FkLOTGTeoQ HTTP/1.1\u001b[0m\" 200 -\n",
      "127.0.0.1 - - [06/Sep/2018 23:22:13] \"\u001b[37mGET /api/v1/tiles/?d=a.10.0&d=a.0.0&s=JoyaEM0KRee0FkLOTGTeoQ HTTP/1.1\u001b[0m\" 200 -\n",
      "127.0.0.1 - - [06/Sep/2018 23:22:30] \"\u001b[37mOPTIONS /api/v1/tileset_info/?d=a&s=QGFr2jd8QhCeqzwQcFm2IQ HTTP/1.1\u001b[0m\" 200 -\n"
     ]
    },
    {
     "name": "stdout",
     "output_type": "stream",
     "text": [
      "filetype: hitile\n"
     ]
    },
    {
     "name": "stderr",
     "output_type": "stream",
     "text": [
      "127.0.0.1 - - [06/Sep/2018 23:22:31] \"\u001b[37mGET /api/v1/tileset_info/?d=a&s=QGFr2jd8QhCeqzwQcFm2IQ HTTP/1.1\u001b[0m\" 200 -\n",
      "127.0.0.1 - - [06/Sep/2018 23:22:31] \"\u001b[37mOPTIONS /api/v1/tiles/?d=a.10.0&d=a.0.0&s=QGFr2jd8QhCeqzwQcFm2IQ HTTP/1.1\u001b[0m\" 200 -\n",
      "127.0.0.1 - - [06/Sep/2018 23:22:31] \"\u001b[37mGET /api/v1/tiles/?d=a.10.0&d=a.0.0&s=QGFr2jd8QhCeqzwQcFm2IQ HTTP/1.1\u001b[0m\" 200 -\n",
      "127.0.0.1 - - [06/Sep/2018 23:22:53] \"\u001b[37mOPTIONS /api/v1/tileset_info/?d=a&s=cVH20oceTNq8g_sqHD0M9w HTTP/1.1\u001b[0m\" 200 -\n"
     ]
    },
    {
     "name": "stdout",
     "output_type": "stream",
     "text": [
      "filetype: hitile\n"
     ]
    },
    {
     "name": "stderr",
     "output_type": "stream",
     "text": [
      "127.0.0.1 - - [06/Sep/2018 23:22:53] \"\u001b[37mGET /api/v1/tileset_info/?d=a&s=cVH20oceTNq8g_sqHD0M9w HTTP/1.1\u001b[0m\" 200 -\n",
      "127.0.0.1 - - [06/Sep/2018 23:22:54] \"\u001b[37mOPTIONS /api/v1/tiles/?d=a.10.0&d=a.0.0&s=cVH20oceTNq8g_sqHD0M9w HTTP/1.1\u001b[0m\" 200 -\n",
      "127.0.0.1 - - [06/Sep/2018 23:22:54] \"\u001b[37mGET /api/v1/tiles/?d=a.10.0&d=a.0.0&s=cVH20oceTNq8g_sqHD0M9w HTTP/1.1\u001b[0m\" 200 -\n",
      "127.0.0.1 - - [06/Sep/2018 23:23:07] \"\u001b[37mOPTIONS /api/v1/tiles/?d=a.1.0&d=a.1.1&s=cVH20oceTNq8g_sqHD0M9w HTTP/1.1\u001b[0m\" 200 -\n",
      "127.0.0.1 - - [06/Sep/2018 23:23:07] \"\u001b[37mGET /api/v1/tiles/?d=a.1.0&d=a.1.1&s=cVH20oceTNq8g_sqHD0M9w HTTP/1.1\u001b[0m\" 200 -\n",
      "127.0.0.1 - - [06/Sep/2018 23:23:09] \"\u001b[37mOPTIONS /api/v1/tiles/?d=a.2.1&d=a.2.2&s=cVH20oceTNq8g_sqHD0M9w HTTP/1.1\u001b[0m\" 200 -\n",
      "127.0.0.1 - - [06/Sep/2018 23:23:09] \"\u001b[37mGET /api/v1/tiles/?d=a.2.1&d=a.2.2&s=cVH20oceTNq8g_sqHD0M9w HTTP/1.1\u001b[0m\" 200 -\n",
      "127.0.0.1 - - [06/Sep/2018 23:23:10] \"\u001b[37mOPTIONS /api/v1/tiles/?d=a.3.3&d=a.3.4&d=a.4.7&d=a.4.8&s=cVH20oceTNq8g_sqHD0M9w HTTP/1.1\u001b[0m\" 200 -\n",
      "127.0.0.1 - - [06/Sep/2018 23:23:10] \"\u001b[37mGET /api/v1/tiles/?d=a.3.3&d=a.3.4&d=a.4.7&d=a.4.8&s=cVH20oceTNq8g_sqHD0M9w HTTP/1.1\u001b[0m\" 200 -\n",
      "127.0.0.1 - - [06/Sep/2018 23:23:11] \"\u001b[37mOPTIONS /api/v1/tiles/?d=a.3.3&d=a.3.4&s=cVH20oceTNq8g_sqHD0M9w HTTP/1.1\u001b[0m\" 200 -\n",
      "127.0.0.1 - - [06/Sep/2018 23:23:11] \"\u001b[37mGET /api/v1/tiles/?d=a.3.3&d=a.3.4&s=cVH20oceTNq8g_sqHD0M9w HTTP/1.1\u001b[0m\" 200 -\n",
      "127.0.0.1 - - [06/Sep/2018 23:23:45] \"\u001b[37mOPTIONS /api/v1/tileset_info/?d=a&s=dmoDoz6DTbq-mJG6gi4brw HTTP/1.1\u001b[0m\" 200 -\n"
     ]
    },
    {
     "name": "stdout",
     "output_type": "stream",
     "text": [
      "filetype: hitile\n"
     ]
    },
    {
     "name": "stderr",
     "output_type": "stream",
     "text": [
      "127.0.0.1 - - [06/Sep/2018 23:23:45] \"\u001b[37mGET /api/v1/tileset_info/?d=a&s=dmoDoz6DTbq-mJG6gi4brw HTTP/1.1\u001b[0m\" 200 -\n",
      "127.0.0.1 - - [06/Sep/2018 23:23:45] \"\u001b[37mOPTIONS /api/v1/tiles/?d=a.10.0&d=a.0.0&s=dmoDoz6DTbq-mJG6gi4brw HTTP/1.1\u001b[0m\" 200 -\n",
      "127.0.0.1 - - [06/Sep/2018 23:23:45] \"\u001b[37mGET /api/v1/tiles/?d=a.10.0&d=a.0.0&s=dmoDoz6DTbq-mJG6gi4brw HTTP/1.1\u001b[0m\" 200 -\n",
      "127.0.0.1 - - [06/Sep/2018 23:23:50] \"\u001b[37mOPTIONS /api/v1/tiles/?d=a.1.0&d=a.1.1&s=dmoDoz6DTbq-mJG6gi4brw HTTP/1.1\u001b[0m\" 200 -\n",
      "127.0.0.1 - - [06/Sep/2018 23:23:50] \"\u001b[37mGET /api/v1/tiles/?d=a.1.0&d=a.1.1&s=dmoDoz6DTbq-mJG6gi4brw HTTP/1.1\u001b[0m\" 200 -\n",
      "127.0.0.1 - - [06/Sep/2018 23:24:18] \"\u001b[37mOPTIONS /api/v1/tileset_info/?d=a&s=BItQQh5cSBqu446sxaKZ_w HTTP/1.1\u001b[0m\" 200 -\n"
     ]
    },
    {
     "name": "stdout",
     "output_type": "stream",
     "text": [
      "filetype: hitile\n"
     ]
    },
    {
     "name": "stderr",
     "output_type": "stream",
     "text": [
      "127.0.0.1 - - [06/Sep/2018 23:24:18] \"\u001b[37mGET /api/v1/tileset_info/?d=a&s=BItQQh5cSBqu446sxaKZ_w HTTP/1.1\u001b[0m\" 200 -\n",
      "127.0.0.1 - - [06/Sep/2018 23:24:18] \"\u001b[37mOPTIONS /api/v1/tiles/?d=a.10.0&d=a.0.0&s=BItQQh5cSBqu446sxaKZ_w HTTP/1.1\u001b[0m\" 200 -\n",
      "127.0.0.1 - - [06/Sep/2018 23:24:18] \"\u001b[37mGET /api/v1/tiles/?d=a.10.0&d=a.0.0&s=BItQQh5cSBqu446sxaKZ_w HTTP/1.1\u001b[0m\" 200 -\n",
      "127.0.0.1 - - [06/Sep/2018 23:24:22] \"\u001b[37mOPTIONS /api/v1/tiles/?d=a.1.0&d=a.1.1&s=BItQQh5cSBqu446sxaKZ_w HTTP/1.1\u001b[0m\" 200 -\n",
      "127.0.0.1 - - [06/Sep/2018 23:24:22] \"\u001b[37mGET /api/v1/tiles/?d=a.1.0&d=a.1.1&s=BItQQh5cSBqu446sxaKZ_w HTTP/1.1\u001b[0m\" 200 -\n",
      "127.0.0.1 - - [06/Sep/2018 23:24:22] \"\u001b[37mOPTIONS /api/v1/tiles/?d=a.2.2&s=BItQQh5cSBqu446sxaKZ_w HTTP/1.1\u001b[0m\" 200 -\n",
      "127.0.0.1 - - [06/Sep/2018 23:24:22] \"\u001b[37mGET /api/v1/tiles/?d=a.2.2&s=BItQQh5cSBqu446sxaKZ_w HTTP/1.1\u001b[0m\" 200 -\n",
      "127.0.0.1 - - [06/Sep/2018 23:24:32] \"\u001b[37mOPTIONS /api/v1/tileset_info/?d=a&s=EHD4wcLVQ-q_9kBDUcNS1g HTTP/1.1\u001b[0m\" 200 -\n"
     ]
    },
    {
     "name": "stdout",
     "output_type": "stream",
     "text": [
      "filetype: hitile\n"
     ]
    },
    {
     "name": "stderr",
     "output_type": "stream",
     "text": [
      "127.0.0.1 - - [06/Sep/2018 23:24:33] \"\u001b[37mGET /api/v1/tileset_info/?d=a&s=EHD4wcLVQ-q_9kBDUcNS1g HTTP/1.1\u001b[0m\" 200 -\n",
      "127.0.0.1 - - [06/Sep/2018 23:24:33] \"\u001b[37mOPTIONS /api/v1/tiles/?d=a.10.0&d=a.0.0&s=EHD4wcLVQ-q_9kBDUcNS1g HTTP/1.1\u001b[0m\" 200 -\n",
      "127.0.0.1 - - [06/Sep/2018 23:24:33] \"\u001b[37mGET /api/v1/tiles/?d=a.10.0&d=a.0.0&s=EHD4wcLVQ-q_9kBDUcNS1g HTTP/1.1\u001b[0m\" 200 -\n",
      "127.0.0.1 - - [06/Sep/2018 23:24:43] \"\u001b[37mOPTIONS /api/v1/tileset_info/?d=a&s=WFRirtKuT0mhVa1WY5r4wQ HTTP/1.1\u001b[0m\" 200 -\n"
     ]
    },
    {
     "name": "stdout",
     "output_type": "stream",
     "text": [
      "filetype: hitile\n"
     ]
    },
    {
     "name": "stderr",
     "output_type": "stream",
     "text": [
      "127.0.0.1 - - [06/Sep/2018 23:24:43] \"\u001b[37mGET /api/v1/tileset_info/?d=a&s=WFRirtKuT0mhVa1WY5r4wQ HTTP/1.1\u001b[0m\" 200 -\n",
      "127.0.0.1 - - [06/Sep/2018 23:24:43] \"\u001b[37mOPTIONS /api/v1/tiles/?d=a.10.0&d=a.0.0&s=WFRirtKuT0mhVa1WY5r4wQ HTTP/1.1\u001b[0m\" 200 -\n",
      "127.0.0.1 - - [06/Sep/2018 23:24:43] \"\u001b[37mGET /api/v1/tiles/?d=a.10.0&d=a.0.0&s=WFRirtKuT0mhVa1WY5r4wQ HTTP/1.1\u001b[0m\" 200 -\n",
      "127.0.0.1 - - [06/Sep/2018 23:24:44] \"\u001b[37mOPTIONS /api/v1/tiles/?d=a.1.0&d=a.1.1&s=WFRirtKuT0mhVa1WY5r4wQ HTTP/1.1\u001b[0m\" 200 -\n",
      "127.0.0.1 - - [06/Sep/2018 23:24:44] \"\u001b[37mGET /api/v1/tiles/?d=a.1.0&d=a.1.1&s=WFRirtKuT0mhVa1WY5r4wQ HTTP/1.1\u001b[0m\" 200 -\n",
      "127.0.0.1 - - [06/Sep/2018 23:24:45] \"\u001b[37mOPTIONS /api/v1/tiles/?d=a.2.1&d=a.2.2&s=WFRirtKuT0mhVa1WY5r4wQ HTTP/1.1\u001b[0m\" 200 -\n",
      "127.0.0.1 - - [06/Sep/2018 23:24:45] \"\u001b[37mGET /api/v1/tiles/?d=a.2.1&d=a.2.2&s=WFRirtKuT0mhVa1WY5r4wQ HTTP/1.1\u001b[0m\" 200 -\n",
      "127.0.0.1 - - [06/Sep/2018 23:24:46] \"\u001b[37mOPTIONS /api/v1/tiles/?d=a.3.3&d=a.3.4&d=a.4.8&d=a.5.16&d=a.5.17&s=WFRirtKuT0mhVa1WY5r4wQ HTTP/1.1\u001b[0m\" 200 -\n",
      "127.0.0.1 - - [06/Sep/2018 23:24:47] \"\u001b[37mGET /api/v1/tiles/?d=a.3.3&d=a.3.4&d=a.4.8&d=a.5.16&d=a.5.17&s=WFRirtKuT0mhVa1WY5r4wQ HTTP/1.1\u001b[0m\" 200 -\n",
      "127.0.0.1 - - [06/Sep/2018 23:24:47] \"\u001b[37mOPTIONS /api/v1/tiles/?d=a.6.34&d=a.7.68&d=a.7.69&s=WFRirtKuT0mhVa1WY5r4wQ HTTP/1.1\u001b[0m\" 200 -\n",
      "127.0.0.1 - - [06/Sep/2018 23:24:47] \"\u001b[37mGET /api/v1/tiles/?d=a.6.34&d=a.7.68&d=a.7.69&s=WFRirtKuT0mhVa1WY5r4wQ HTTP/1.1\u001b[0m\" 200 -\n",
      "127.0.0.1 - - [06/Sep/2018 23:24:49] \"\u001b[37mOPTIONS /api/v1/tiles/?d=a.8.137&d=a.9.275&s=WFRirtKuT0mhVa1WY5r4wQ HTTP/1.1\u001b[0m\" 200 -\n",
      "127.0.0.1 - - [06/Sep/2018 23:24:49] \"\u001b[37mGET /api/v1/tiles/?d=a.8.137&d=a.9.275&s=WFRirtKuT0mhVa1WY5r4wQ HTTP/1.1\u001b[0m\" 200 -\n",
      "127.0.0.1 - - [06/Sep/2018 23:24:50] \"\u001b[37mOPTIONS /api/v1/tiles/?d=a.10.550&d=a.10.551&s=WFRirtKuT0mhVa1WY5r4wQ HTTP/1.1\u001b[0m\" 200 -\n",
      "127.0.0.1 - - [06/Sep/2018 23:24:50] \"\u001b[37mGET /api/v1/tiles/?d=a.10.550&d=a.10.551&s=WFRirtKuT0mhVa1WY5r4wQ HTTP/1.1\u001b[0m\" 200 -\n",
      "127.0.0.1 - - [06/Sep/2018 23:24:58] \"\u001b[37mOPTIONS /api/v1/tiles/?d=a.10.551&s=WFRirtKuT0mhVa1WY5r4wQ HTTP/1.1\u001b[0m\" 200 -\n",
      "127.0.0.1 - - [06/Sep/2018 23:24:58] \"\u001b[37mGET /api/v1/tiles/?d=a.10.551&s=WFRirtKuT0mhVa1WY5r4wQ HTTP/1.1\u001b[0m\" 200 -\n",
      "127.0.0.1 - - [06/Sep/2018 23:24:59] \"\u001b[37mOPTIONS /api/v1/tiles/?d=a.9.275&s=WFRirtKuT0mhVa1WY5r4wQ HTTP/1.1\u001b[0m\" 200 -\n",
      "127.0.0.1 - - [06/Sep/2018 23:24:59] \"\u001b[37mGET /api/v1/tiles/?d=a.9.275&s=WFRirtKuT0mhVa1WY5r4wQ HTTP/1.1\u001b[0m\" 200 -\n",
      "127.0.0.1 - - [06/Sep/2018 23:25:07] \"\u001b[37mOPTIONS /api/v1/tiles/?d=a.8.137&s=WFRirtKuT0mhVa1WY5r4wQ HTTP/1.1\u001b[0m\" 200 -\n",
      "127.0.0.1 - - [06/Sep/2018 23:25:07] \"\u001b[37mGET /api/v1/tiles/?d=a.8.137&s=WFRirtKuT0mhVa1WY5r4wQ HTTP/1.1\u001b[0m\" 200 -\n",
      "127.0.0.1 - - [06/Sep/2018 23:25:11] \"\u001b[37mOPTIONS /api/v1/tiles/?d=a.8.138&s=WFRirtKuT0mhVa1WY5r4wQ HTTP/1.1\u001b[0m\" 200 -\n",
      "127.0.0.1 - - [06/Sep/2018 23:25:11] \"\u001b[37mGET /api/v1/tiles/?d=a.8.138&s=WFRirtKuT0mhVa1WY5r4wQ HTTP/1.1\u001b[0m\" 200 -\n",
      "127.0.0.1 - - [06/Sep/2018 23:25:12] \"\u001b[37mOPTIONS /api/v1/tiles/?d=a.7.68&d=a.7.69&s=WFRirtKuT0mhVa1WY5r4wQ HTTP/1.1\u001b[0m\" 200 -\n",
      "127.0.0.1 - - [06/Sep/2018 23:25:12] \"\u001b[37mGET /api/v1/tiles/?d=a.7.68&d=a.7.69&s=WFRirtKuT0mhVa1WY5r4wQ HTTP/1.1\u001b[0m\" 200 -\n",
      "127.0.0.1 - - [06/Sep/2018 23:25:15] \"\u001b[37mOPTIONS /api/v1/tiles/?d=a.6.34&s=WFRirtKuT0mhVa1WY5r4wQ HTTP/1.1\u001b[0m\" 200 -\n",
      "127.0.0.1 - - [06/Sep/2018 23:25:15] \"\u001b[37mGET /api/v1/tiles/?d=a.6.34&s=WFRirtKuT0mhVa1WY5r4wQ HTTP/1.1\u001b[0m\" 200 -\n",
      "127.0.0.1 - - [06/Sep/2018 23:25:18] \"\u001b[37mOPTIONS /api/v1/tiles/?d=a.7.68&d=a.7.69&s=WFRirtKuT0mhVa1WY5r4wQ HTTP/1.1\u001b[0m\" 200 -\n",
      "127.0.0.1 - - [06/Sep/2018 23:25:18] \"\u001b[37mGET /api/v1/tiles/?d=a.7.68&d=a.7.69&s=WFRirtKuT0mhVa1WY5r4wQ HTTP/1.1\u001b[0m\" 200 -\n",
      "127.0.0.1 - - [06/Sep/2018 23:25:21] \"\u001b[37mOPTIONS /api/v1/tiles/?d=a.6.34&s=WFRirtKuT0mhVa1WY5r4wQ HTTP/1.1\u001b[0m\" 200 -\n",
      "127.0.0.1 - - [06/Sep/2018 23:25:21] \"\u001b[37mGET /api/v1/tiles/?d=a.6.34&s=WFRirtKuT0mhVa1WY5r4wQ HTTP/1.1\u001b[0m\" 200 -\n",
      "127.0.0.1 - - [06/Sep/2018 23:25:26] \"\u001b[37mOPTIONS /api/v1/tiles/?d=a.5.17&s=WFRirtKuT0mhVa1WY5r4wQ HTTP/1.1\u001b[0m\" 200 -\n",
      "127.0.0.1 - - [06/Sep/2018 23:25:26] \"\u001b[37mGET /api/v1/tiles/?d=a.5.17&s=WFRirtKuT0mhVa1WY5r4wQ HTTP/1.1\u001b[0m\" 200 -\n",
      "127.0.0.1 - - [06/Sep/2018 23:25:27] \"\u001b[37mOPTIONS /api/v1/tiles/?d=a.5.16&s=WFRirtKuT0mhVa1WY5r4wQ HTTP/1.1\u001b[0m\" 200 -\n",
      "127.0.0.1 - - [06/Sep/2018 23:25:27] \"\u001b[37mGET /api/v1/tiles/?d=a.5.16&s=WFRirtKuT0mhVa1WY5r4wQ HTTP/1.1\u001b[0m\" 200 -\n",
      "127.0.0.1 - - [06/Sep/2018 23:25:28] \"\u001b[37mOPTIONS /api/v1/tiles/?d=a.6.34&s=WFRirtKuT0mhVa1WY5r4wQ HTTP/1.1\u001b[0m\" 200 -\n",
      "127.0.0.1 - - [06/Sep/2018 23:25:28] \"\u001b[37mGET /api/v1/tiles/?d=a.6.34&s=WFRirtKuT0mhVa1WY5r4wQ HTTP/1.1\u001b[0m\" 200 -\n",
      "127.0.0.1 - - [06/Sep/2018 23:25:29] \"\u001b[37mOPTIONS /api/v1/tiles/?d=a.7.68&d=a.7.69&s=WFRirtKuT0mhVa1WY5r4wQ HTTP/1.1\u001b[0m\" 200 -\n",
      "127.0.0.1 - - [06/Sep/2018 23:25:29] \"\u001b[37mGET /api/v1/tiles/?d=a.7.68&d=a.7.69&s=WFRirtKuT0mhVa1WY5r4wQ HTTP/1.1\u001b[0m\" 200 -\n",
      "127.0.0.1 - - [06/Sep/2018 23:25:31] \"\u001b[37mOPTIONS /api/v1/tiles/?d=a.8.137&s=WFRirtKuT0mhVa1WY5r4wQ HTTP/1.1\u001b[0m\" 200 -\n",
      "127.0.0.1 - - [06/Sep/2018 23:25:31] \"\u001b[37mGET /api/v1/tiles/?d=a.8.137&s=WFRirtKuT0mhVa1WY5r4wQ HTTP/1.1\u001b[0m\" 200 -\n",
      "127.0.0.1 - - [06/Sep/2018 23:25:32] \"\u001b[37mOPTIONS /api/v1/tiles/?d=a.8.138&d=a.7.68&d=a.7.69&s=WFRirtKuT0mhVa1WY5r4wQ HTTP/1.1\u001b[0m\" 200 -\n",
      "127.0.0.1 - - [06/Sep/2018 23:25:32] \"\u001b[37mGET /api/v1/tiles/?d=a.8.138&d=a.7.68&d=a.7.69&s=WFRirtKuT0mhVa1WY5r4wQ HTTP/1.1\u001b[0m\" 200 -\n",
      "127.0.0.1 - - [06/Sep/2018 23:25:35] \"\u001b[37mOPTIONS /api/v1/tiles/?d=a.6.34&s=WFRirtKuT0mhVa1WY5r4wQ HTTP/1.1\u001b[0m\" 200 -\n",
      "127.0.0.1 - - [06/Sep/2018 23:25:35] \"\u001b[37mGET /api/v1/tiles/?d=a.6.34&s=WFRirtKuT0mhVa1WY5r4wQ HTTP/1.1\u001b[0m\" 200 -\n",
      "127.0.0.1 - - [06/Sep/2018 23:25:39] \"\u001b[37mOPTIONS /api/v1/tiles/?d=a.5.17&s=WFRirtKuT0mhVa1WY5r4wQ HTTP/1.1\u001b[0m\" 200 -\n",
      "127.0.0.1 - - [06/Sep/2018 23:25:39] \"\u001b[37mGET /api/v1/tiles/?d=a.5.17&s=WFRirtKuT0mhVa1WY5r4wQ HTTP/1.1\u001b[0m\" 200 -\n",
      "127.0.0.1 - - [06/Sep/2018 23:25:40] \"\u001b[37mOPTIONS /api/v1/tiles/?d=a.5.16&s=WFRirtKuT0mhVa1WY5r4wQ HTTP/1.1\u001b[0m\" 200 -\n",
      "127.0.0.1 - - [06/Sep/2018 23:25:40] \"\u001b[37mGET /api/v1/tiles/?d=a.5.16&s=WFRirtKuT0mhVa1WY5r4wQ HTTP/1.1\u001b[0m\" 200 -\n",
      "127.0.0.1 - - [06/Sep/2018 23:25:41] \"\u001b[37mOPTIONS /api/v1/tiles/?d=a.4.8&s=WFRirtKuT0mhVa1WY5r4wQ HTTP/1.1\u001b[0m\" 200 -\n",
      "127.0.0.1 - - [06/Sep/2018 23:25:41] \"\u001b[37mGET /api/v1/tiles/?d=a.4.8&s=WFRirtKuT0mhVa1WY5r4wQ HTTP/1.1\u001b[0m\" 200 -\n",
      "127.0.0.1 - - [06/Sep/2018 23:25:42] \"\u001b[37mOPTIONS /api/v1/tiles/?d=a.3.4&d=a.3.3&s=WFRirtKuT0mhVa1WY5r4wQ HTTP/1.1\u001b[0m\" 200 -\n",
      "127.0.0.1 - - [06/Sep/2018 23:25:42] \"\u001b[37mGET /api/v1/tiles/?d=a.3.4&d=a.3.3&s=WFRirtKuT0mhVa1WY5r4wQ HTTP/1.1\u001b[0m\" 200 -\n",
      "127.0.0.1 - - [06/Sep/2018 23:25:42] \"\u001b[37mOPTIONS /api/v1/tiles/?d=a.2.1&d=a.2.2&s=WFRirtKuT0mhVa1WY5r4wQ HTTP/1.1\u001b[0m\" 200 -\n",
      "127.0.0.1 - - [06/Sep/2018 23:25:42] \"\u001b[37mGET /api/v1/tiles/?d=a.2.1&d=a.2.2&s=WFRirtKuT0mhVa1WY5r4wQ HTTP/1.1\u001b[0m\" 200 -\n",
      "127.0.0.1 - - [06/Sep/2018 23:25:42] \"\u001b[37mOPTIONS /api/v1/tiles/?d=a.1.0&d=a.1.1&s=WFRirtKuT0mhVa1WY5r4wQ HTTP/1.1\u001b[0m\" 200 -\n",
      "127.0.0.1 - - [06/Sep/2018 23:25:42] \"\u001b[37mGET /api/v1/tiles/?d=a.1.0&d=a.1.1&s=WFRirtKuT0mhVa1WY5r4wQ HTTP/1.1\u001b[0m\" 200 -\n",
      "127.0.0.1 - - [06/Sep/2018 23:25:43] \"\u001b[37mOPTIONS /api/v1/tiles/?d=a.0.0&s=WFRirtKuT0mhVa1WY5r4wQ HTTP/1.1\u001b[0m\" 200 -\n",
      "127.0.0.1 - - [06/Sep/2018 23:25:43] \"\u001b[37mGET /api/v1/tiles/?d=a.0.0&s=WFRirtKuT0mhVa1WY5r4wQ HTTP/1.1\u001b[0m\" 200 -\n",
      "127.0.0.1 - - [06/Sep/2018 23:25:46] \"\u001b[37mOPTIONS /api/v1/tiles/?d=a.1.0&d=a.1.1&s=WFRirtKuT0mhVa1WY5r4wQ HTTP/1.1\u001b[0m\" 200 -\n",
      "127.0.0.1 - - [06/Sep/2018 23:25:46] \"\u001b[37mGET /api/v1/tiles/?d=a.1.0&d=a.1.1&s=WFRirtKuT0mhVa1WY5r4wQ HTTP/1.1\u001b[0m\" 200 -\n",
      "127.0.0.1 - - [06/Sep/2018 23:25:47] \"\u001b[37mOPTIONS /api/v1/tiles/?d=a.2.1&d=a.2.2&d=a.3.3&d=a.3.4&s=WFRirtKuT0mhVa1WY5r4wQ HTTP/1.1\u001b[0m\" 200 -\n",
      "127.0.0.1 - - [06/Sep/2018 23:25:47] \"\u001b[37mGET /api/v1/tiles/?d=a.2.1&d=a.2.2&d=a.3.3&d=a.3.4&s=WFRirtKuT0mhVa1WY5r4wQ HTTP/1.1\u001b[0m\" 200 -\n",
      "127.0.0.1 - - [06/Sep/2018 23:25:48] \"\u001b[37mOPTIONS /api/v1/tiles/?d=a.4.8&s=WFRirtKuT0mhVa1WY5r4wQ HTTP/1.1\u001b[0m\" 200 -\n",
      "127.0.0.1 - - [06/Sep/2018 23:25:48] \"\u001b[37mGET /api/v1/tiles/?d=a.4.8&s=WFRirtKuT0mhVa1WY5r4wQ HTTP/1.1\u001b[0m\" 200 -\n",
      "127.0.0.1 - - [06/Sep/2018 23:25:48] \"\u001b[37mOPTIONS /api/v1/tiles/?d=a.5.16&d=a.5.17&s=WFRirtKuT0mhVa1WY5r4wQ HTTP/1.1\u001b[0m\" 200 -\n"
     ]
    },
    {
     "name": "stderr",
     "output_type": "stream",
     "text": [
      "127.0.0.1 - - [06/Sep/2018 23:25:49] \"\u001b[37mGET /api/v1/tiles/?d=a.5.16&d=a.5.17&s=WFRirtKuT0mhVa1WY5r4wQ HTTP/1.1\u001b[0m\" 200 -\n",
      "127.0.0.1 - - [06/Sep/2018 23:31:08] \"\u001b[37mOPTIONS /api/v1/tileset_info/?d=a&s=CA2ihOG5RHqh2rodKKqozA HTTP/1.1\u001b[0m\" 200 -\n"
     ]
    },
    {
     "name": "stdout",
     "output_type": "stream",
     "text": [
      "filetype: hitile\n"
     ]
    },
    {
     "name": "stderr",
     "output_type": "stream",
     "text": [
      "127.0.0.1 - - [06/Sep/2018 23:31:08] \"\u001b[37mGET /api/v1/tileset_info/?d=a&s=CA2ihOG5RHqh2rodKKqozA HTTP/1.1\u001b[0m\" 200 -\n",
      "127.0.0.1 - - [06/Sep/2018 23:31:08] \"\u001b[37mOPTIONS /api/v1/tiles/?d=a.10.0&d=a.0.0&s=CA2ihOG5RHqh2rodKKqozA HTTP/1.1\u001b[0m\" 200 -\n",
      "127.0.0.1 - - [06/Sep/2018 23:31:08] \"\u001b[37mGET /api/v1/tiles/?d=a.10.0&d=a.0.0&s=CA2ihOG5RHqh2rodKKqozA HTTP/1.1\u001b[0m\" 200 -\n",
      "127.0.0.1 - - [06/Sep/2018 23:31:45] \"\u001b[37mOPTIONS /api/v1/tileset_info/?d=a&s=H5SMOV0DSvq-4TNKPcVB7Q HTTP/1.1\u001b[0m\" 200 -\n"
     ]
    },
    {
     "name": "stdout",
     "output_type": "stream",
     "text": [
      "filetype: hitile\n"
     ]
    },
    {
     "name": "stderr",
     "output_type": "stream",
     "text": [
      "127.0.0.1 - - [06/Sep/2018 23:31:45] \"\u001b[37mGET /api/v1/tileset_info/?d=a&s=H5SMOV0DSvq-4TNKPcVB7Q HTTP/1.1\u001b[0m\" 200 -\n",
      "127.0.0.1 - - [06/Sep/2018 23:31:45] \"\u001b[37mOPTIONS /api/v1/tiles/?d=a.10.0&d=a.0.0&s=H5SMOV0DSvq-4TNKPcVB7Q HTTP/1.1\u001b[0m\" 200 -\n",
      "127.0.0.1 - - [06/Sep/2018 23:31:45] \"\u001b[37mGET /api/v1/tiles/?d=a.10.0&d=a.0.0&s=H5SMOV0DSvq-4TNKPcVB7Q HTTP/1.1\u001b[0m\" 200 -\n",
      "127.0.0.1 - - [06/Sep/2018 23:32:44] \"\u001b[37mOPTIONS /api/v1/tileset_info/?d=a&s=TcTaIV2rT0aMQBvqAlQFiA HTTP/1.1\u001b[0m\" 200 -\n"
     ]
    },
    {
     "name": "stdout",
     "output_type": "stream",
     "text": [
      "filetype: hitile\n"
     ]
    },
    {
     "name": "stderr",
     "output_type": "stream",
     "text": [
      "127.0.0.1 - - [06/Sep/2018 23:32:45] \"\u001b[37mGET /api/v1/tileset_info/?d=a&s=TcTaIV2rT0aMQBvqAlQFiA HTTP/1.1\u001b[0m\" 200 -\n",
      "127.0.0.1 - - [06/Sep/2018 23:32:45] \"\u001b[37mOPTIONS /api/v1/tiles/?d=a.10.0&d=a.0.0&s=TcTaIV2rT0aMQBvqAlQFiA HTTP/1.1\u001b[0m\" 200 -\n",
      "127.0.0.1 - - [06/Sep/2018 23:32:45] \"\u001b[37mGET /api/v1/tiles/?d=a.10.0&d=a.0.0&s=TcTaIV2rT0aMQBvqAlQFiA HTTP/1.1\u001b[0m\" 200 -\n",
      "127.0.0.1 - - [06/Sep/2018 23:33:36] \"\u001b[37mOPTIONS /api/v1/tileset_info/?d=a&s=bT8wci1RSKyd34y6SJYF_g HTTP/1.1\u001b[0m\" 200 -\n"
     ]
    },
    {
     "name": "stdout",
     "output_type": "stream",
     "text": [
      "filetype: hitile\n"
     ]
    },
    {
     "name": "stderr",
     "output_type": "stream",
     "text": [
      "127.0.0.1 - - [06/Sep/2018 23:33:36] \"\u001b[37mGET /api/v1/tileset_info/?d=a&s=bT8wci1RSKyd34y6SJYF_g HTTP/1.1\u001b[0m\" 200 -\n",
      "127.0.0.1 - - [06/Sep/2018 23:33:36] \"\u001b[37mOPTIONS /api/v1/tiles/?d=a.10.0&d=a.0.0&s=bT8wci1RSKyd34y6SJYF_g HTTP/1.1\u001b[0m\" 200 -\n",
      "127.0.0.1 - - [06/Sep/2018 23:33:36] \"\u001b[37mGET /api/v1/tiles/?d=a.10.0&d=a.0.0&s=bT8wci1RSKyd34y6SJYF_g HTTP/1.1\u001b[0m\" 200 -\n",
      "127.0.0.1 - - [06/Sep/2018 23:33:40] \"\u001b[37mOPTIONS /api/v1/tiles/?d=a.1.0&d=a.1.1&s=bT8wci1RSKyd34y6SJYF_g HTTP/1.1\u001b[0m\" 200 -\n",
      "127.0.0.1 - - [06/Sep/2018 23:33:40] \"\u001b[37mGET /api/v1/tiles/?d=a.1.0&d=a.1.1&s=bT8wci1RSKyd34y6SJYF_g HTTP/1.1\u001b[0m\" 200 -\n",
      "127.0.0.1 - - [06/Sep/2018 23:33:41] \"\u001b[37mOPTIONS /api/v1/tiles/?d=a.2.1&d=a.2.2&s=bT8wci1RSKyd34y6SJYF_g HTTP/1.1\u001b[0m\" 200 -\n",
      "127.0.0.1 - - [06/Sep/2018 23:33:41] \"\u001b[37mGET /api/v1/tiles/?d=a.2.1&d=a.2.2&s=bT8wci1RSKyd34y6SJYF_g HTTP/1.1\u001b[0m\" 200 -\n",
      "127.0.0.1 - - [06/Sep/2018 23:33:42] \"\u001b[37mOPTIONS /api/v1/tiles/?d=a.3.3&d=a.3.4&s=bT8wci1RSKyd34y6SJYF_g HTTP/1.1\u001b[0m\" 200 -\n",
      "127.0.0.1 - - [06/Sep/2018 23:33:42] \"\u001b[37mGET /api/v1/tiles/?d=a.3.3&d=a.3.4&s=bT8wci1RSKyd34y6SJYF_g HTTP/1.1\u001b[0m\" 200 -\n",
      "127.0.0.1 - - [06/Sep/2018 23:33:42] \"\u001b[37mOPTIONS /api/v1/tiles/?d=a.4.7&d=a.4.8&s=bT8wci1RSKyd34y6SJYF_g HTTP/1.1\u001b[0m\" 200 -\n",
      "127.0.0.1 - - [06/Sep/2018 23:33:42] \"\u001b[37mGET /api/v1/tiles/?d=a.4.7&d=a.4.8&s=bT8wci1RSKyd34y6SJYF_g HTTP/1.1\u001b[0m\" 200 -\n",
      "127.0.0.1 - - [06/Sep/2018 23:33:43] \"\u001b[37mOPTIONS /api/v1/tiles/?d=a.5.15&s=bT8wci1RSKyd34y6SJYF_g HTTP/1.1\u001b[0m\" 200 -\n",
      "127.0.0.1 - - [06/Sep/2018 23:33:43] \"\u001b[37mGET /api/v1/tiles/?d=a.5.15&s=bT8wci1RSKyd34y6SJYF_g HTTP/1.1\u001b[0m\" 200 -\n",
      "127.0.0.1 - - [06/Sep/2018 23:33:43] \"\u001b[37mOPTIONS /api/v1/tiles/?d=a.6.30&d=a.6.31&s=bT8wci1RSKyd34y6SJYF_g HTTP/1.1\u001b[0m\" 200 -\n",
      "127.0.0.1 - - [06/Sep/2018 23:33:43] \"\u001b[37mGET /api/v1/tiles/?d=a.6.30&d=a.6.31&s=bT8wci1RSKyd34y6SJYF_g HTTP/1.1\u001b[0m\" 200 -\n",
      "127.0.0.1 - - [06/Sep/2018 23:33:44] \"\u001b[37mOPTIONS /api/v1/tiles/?d=a.7.62&s=bT8wci1RSKyd34y6SJYF_g HTTP/1.1\u001b[0m\" 200 -\n",
      "127.0.0.1 - - [06/Sep/2018 23:33:44] \"\u001b[37mGET /api/v1/tiles/?d=a.7.62&s=bT8wci1RSKyd34y6SJYF_g HTTP/1.1\u001b[0m\" 200 -\n",
      "127.0.0.1 - - [06/Sep/2018 23:33:46] \"\u001b[37mOPTIONS /api/v1/tiles/?d=a.8.124&d=a.8.125&s=bT8wci1RSKyd34y6SJYF_g HTTP/1.1\u001b[0m\" 200 -\n",
      "127.0.0.1 - - [06/Sep/2018 23:33:46] \"\u001b[37mGET /api/v1/tiles/?d=a.8.124&d=a.8.125&s=bT8wci1RSKyd34y6SJYF_g HTTP/1.1\u001b[0m\" 200 -\n",
      "127.0.0.1 - - [06/Sep/2018 23:33:47] \"\u001b[37mOPTIONS /api/v1/tiles/?d=a.9.249&d=a.9.250&s=bT8wci1RSKyd34y6SJYF_g HTTP/1.1\u001b[0m\" 200 -\n",
      "127.0.0.1 - - [06/Sep/2018 23:33:47] \"\u001b[37mGET /api/v1/tiles/?d=a.9.249&d=a.9.250&s=bT8wci1RSKyd34y6SJYF_g HTTP/1.1\u001b[0m\" 200 -\n",
      "127.0.0.1 - - [06/Sep/2018 23:33:47] \"\u001b[37mOPTIONS /api/v1/tiles/?d=a.10.499&s=bT8wci1RSKyd34y6SJYF_g HTTP/1.1\u001b[0m\" 200 -\n",
      "127.0.0.1 - - [06/Sep/2018 23:33:47] \"\u001b[37mGET /api/v1/tiles/?d=a.10.499&s=bT8wci1RSKyd34y6SJYF_g HTTP/1.1\u001b[0m\" 200 -\n",
      "127.0.0.1 - - [06/Sep/2018 23:33:51] \"\u001b[37mOPTIONS /api/v1/tiles/?d=a.10.500&s=bT8wci1RSKyd34y6SJYF_g HTTP/1.1\u001b[0m\" 200 -\n",
      "127.0.0.1 - - [06/Sep/2018 23:33:51] \"\u001b[37mGET /api/v1/tiles/?d=a.10.500&s=bT8wci1RSKyd34y6SJYF_g HTTP/1.1\u001b[0m\" 200 -\n",
      "127.0.0.1 - - [06/Sep/2018 23:33:52] \"\u001b[37mOPTIONS /api/v1/tiles/?d=a.9.249&d=a.9.250&s=bT8wci1RSKyd34y6SJYF_g HTTP/1.1\u001b[0m\" 200 -\n",
      "127.0.0.1 - - [06/Sep/2018 23:33:52] \"\u001b[37mGET /api/v1/tiles/?d=a.9.249&d=a.9.250&s=bT8wci1RSKyd34y6SJYF_g HTTP/1.1\u001b[0m\" 200 -\n",
      "127.0.0.1 - - [06/Sep/2018 23:33:54] \"\u001b[37mOPTIONS /api/v1/tiles/?d=a.8.124&d=a.8.125&s=bT8wci1RSKyd34y6SJYF_g HTTP/1.1\u001b[0m\" 200 -\n",
      "127.0.0.1 - - [06/Sep/2018 23:33:54] \"\u001b[37mGET /api/v1/tiles/?d=a.8.124&d=a.8.125&s=bT8wci1RSKyd34y6SJYF_g HTTP/1.1\u001b[0m\" 200 -\n",
      "127.0.0.1 - - [06/Sep/2018 23:33:56] \"\u001b[37mOPTIONS /api/v1/tiles/?d=a.7.62&s=bT8wci1RSKyd34y6SJYF_g HTTP/1.1\u001b[0m\" 200 -\n",
      "127.0.0.1 - - [06/Sep/2018 23:33:56] \"\u001b[37mGET /api/v1/tiles/?d=a.7.62&s=bT8wci1RSKyd34y6SJYF_g HTTP/1.1\u001b[0m\" 200 -\n",
      "127.0.0.1 - - [06/Sep/2018 23:34:00] \"\u001b[37mOPTIONS /api/v1/tiles/?d=a.6.31&s=bT8wci1RSKyd34y6SJYF_g HTTP/1.1\u001b[0m\" 200 -\n",
      "127.0.0.1 - - [06/Sep/2018 23:34:00] \"\u001b[37mGET /api/v1/tiles/?d=a.6.31&s=bT8wci1RSKyd34y6SJYF_g HTTP/1.1\u001b[0m\" 200 -\n",
      "127.0.0.1 - - [06/Sep/2018 23:34:00] \"\u001b[37mOPTIONS /api/v1/tiles/?d=a.6.30&s=bT8wci1RSKyd34y6SJYF_g HTTP/1.1\u001b[0m\" 200 -\n",
      "127.0.0.1 - - [06/Sep/2018 23:34:00] \"\u001b[37mGET /api/v1/tiles/?d=a.6.30&s=bT8wci1RSKyd34y6SJYF_g HTTP/1.1\u001b[0m\" 200 -\n",
      "127.0.0.1 - - [06/Sep/2018 23:34:01] \"\u001b[37mOPTIONS /api/v1/tiles/?d=a.5.15&s=bT8wci1RSKyd34y6SJYF_g HTTP/1.1\u001b[0m\" 200 -\n",
      "127.0.0.1 - - [06/Sep/2018 23:34:01] \"\u001b[37mGET /api/v1/tiles/?d=a.5.15&s=bT8wci1RSKyd34y6SJYF_g HTTP/1.1\u001b[0m\" 200 -\n",
      "127.0.0.1 - - [06/Sep/2018 23:34:02] \"\u001b[37mOPTIONS /api/v1/tiles/?d=a.4.7&s=bT8wci1RSKyd34y6SJYF_g HTTP/1.1\u001b[0m\" 200 -\n",
      "127.0.0.1 - - [06/Sep/2018 23:34:02] \"\u001b[37mGET /api/v1/tiles/?d=a.4.7&s=bT8wci1RSKyd34y6SJYF_g HTTP/1.1\u001b[0m\" 200 -\n",
      "127.0.0.1 - - [06/Sep/2018 23:34:02] \"\u001b[37mOPTIONS /api/v1/tiles/?d=a.4.8&s=bT8wci1RSKyd34y6SJYF_g HTTP/1.1\u001b[0m\" 200 -\n",
      "127.0.0.1 - - [06/Sep/2018 23:34:02] \"\u001b[37mGET /api/v1/tiles/?d=a.4.8&s=bT8wci1RSKyd34y6SJYF_g HTTP/1.1\u001b[0m\" 200 -\n",
      "127.0.0.1 - - [06/Sep/2018 23:34:04] \"\u001b[37mOPTIONS /api/v1/tiles/?d=a.3.3&d=a.3.4&s=bT8wci1RSKyd34y6SJYF_g HTTP/1.1\u001b[0m\" 200 -\n",
      "127.0.0.1 - - [06/Sep/2018 23:34:04] \"\u001b[37mGET /api/v1/tiles/?d=a.3.3&d=a.3.4&s=bT8wci1RSKyd34y6SJYF_g HTTP/1.1\u001b[0m\" 200 -\n",
      "127.0.0.1 - - [06/Sep/2018 23:34:05] \"\u001b[37mOPTIONS /api/v1/tiles/?d=a.4.7&d=a.4.8&s=bT8wci1RSKyd34y6SJYF_g HTTP/1.1\u001b[0m\" 200 -\n",
      "127.0.0.1 - - [06/Sep/2018 23:34:05] \"\u001b[37mGET /api/v1/tiles/?d=a.4.7&d=a.4.8&s=bT8wci1RSKyd34y6SJYF_g HTTP/1.1\u001b[0m\" 200 -\n",
      "127.0.0.1 - - [06/Sep/2018 23:34:06] \"\u001b[37mOPTIONS /api/v1/tiles/?d=a.5.15&s=bT8wci1RSKyd34y6SJYF_g HTTP/1.1\u001b[0m\" 200 -\n",
      "127.0.0.1 - - [06/Sep/2018 23:34:06] \"\u001b[37mGET /api/v1/tiles/?d=a.5.15&s=bT8wci1RSKyd34y6SJYF_g HTTP/1.1\u001b[0m\" 200 -\n",
      "127.0.0.1 - - [06/Sep/2018 23:34:07] \"\u001b[37mOPTIONS /api/v1/tiles/?d=a.6.30&d=a.6.31&s=bT8wci1RSKyd34y6SJYF_g HTTP/1.1\u001b[0m\" 200 -\n",
      "127.0.0.1 - - [06/Sep/2018 23:34:07] \"\u001b[37mGET /api/v1/tiles/?d=a.6.30&d=a.6.31&s=bT8wci1RSKyd34y6SJYF_g HTTP/1.1\u001b[0m\" 200 -\n",
      "127.0.0.1 - - [06/Sep/2018 23:34:09] \"\u001b[37mOPTIONS /api/v1/tiles/?d=a.7.62&s=bT8wci1RSKyd34y6SJYF_g HTTP/1.1\u001b[0m\" 200 -\n",
      "127.0.0.1 - - [06/Sep/2018 23:34:09] \"\u001b[37mGET /api/v1/tiles/?d=a.7.62&s=bT8wci1RSKyd34y6SJYF_g HTTP/1.1\u001b[0m\" 200 -\n",
      "127.0.0.1 - - [06/Sep/2018 23:34:10] \"\u001b[37mOPTIONS /api/v1/tiles/?d=a.8.124&d=a.8.125&d=a.9.249&d=a.9.250&s=bT8wci1RSKyd34y6SJYF_g HTTP/1.1\u001b[0m\" 200 -\n",
      "127.0.0.1 - - [06/Sep/2018 23:34:11] \"\u001b[37mGET /api/v1/tiles/?d=a.8.124&d=a.8.125&d=a.9.249&d=a.9.250&s=bT8wci1RSKyd34y6SJYF_g HTTP/1.1\u001b[0m\" 200 -\n",
      "127.0.0.1 - - [06/Sep/2018 23:34:12] \"\u001b[37mOPTIONS /api/v1/tiles/?d=a.8.124&d=a.8.125&s=bT8wci1RSKyd34y6SJYF_g HTTP/1.1\u001b[0m\" 200 -\n",
      "127.0.0.1 - - [06/Sep/2018 23:34:12] \"\u001b[37mGET /api/v1/tiles/?d=a.8.124&d=a.8.125&s=bT8wci1RSKyd34y6SJYF_g HTTP/1.1\u001b[0m\" 200 -\n",
      "127.0.0.1 - - [06/Sep/2018 23:34:14] \"\u001b[37mOPTIONS /api/v1/tiles/?d=a.7.62&s=bT8wci1RSKyd34y6SJYF_g HTTP/1.1\u001b[0m\" 200 -\n",
      "127.0.0.1 - - [06/Sep/2018 23:34:14] \"\u001b[37mGET /api/v1/tiles/?d=a.7.62&s=bT8wci1RSKyd34y6SJYF_g HTTP/1.1\u001b[0m\" 200 -\n",
      "127.0.0.1 - - [06/Sep/2018 23:34:16] \"\u001b[37mOPTIONS /api/v1/tiles/?d=a.8.124&d=a.8.125&s=bT8wci1RSKyd34y6SJYF_g HTTP/1.1\u001b[0m\" 200 -\n",
      "127.0.0.1 - - [06/Sep/2018 23:34:16] \"\u001b[37mGET /api/v1/tiles/?d=a.8.124&d=a.8.125&s=bT8wci1RSKyd34y6SJYF_g HTTP/1.1\u001b[0m\" 200 -\n",
      "127.0.0.1 - - [06/Sep/2018 23:34:17] \"\u001b[37mOPTIONS /api/v1/tiles/?d=a.9.249&d=a.9.250&s=bT8wci1RSKyd34y6SJYF_g HTTP/1.1\u001b[0m\" 200 -\n",
      "127.0.0.1 - - [06/Sep/2018 23:34:17] \"\u001b[37mGET /api/v1/tiles/?d=a.9.249&d=a.9.250&s=bT8wci1RSKyd34y6SJYF_g HTTP/1.1\u001b[0m\" 200 -\n",
      "127.0.0.1 - - [06/Sep/2018 23:34:17] \"\u001b[37mOPTIONS /api/v1/tiles/?d=a.10.499&s=bT8wci1RSKyd34y6SJYF_g HTTP/1.1\u001b[0m\" 200 -\n",
      "127.0.0.1 - - [06/Sep/2018 23:34:17] \"\u001b[37mGET /api/v1/tiles/?d=a.10.499&s=bT8wci1RSKyd34y6SJYF_g HTTP/1.1\u001b[0m\" 200 -\n",
      "127.0.0.1 - - [06/Sep/2018 23:34:22] \"\u001b[37mOPTIONS /api/v1/tiles/?d=a.9.249&d=a.9.250&s=bT8wci1RSKyd34y6SJYF_g HTTP/1.1\u001b[0m\" 200 -\n",
      "127.0.0.1 - - [06/Sep/2018 23:34:22] \"\u001b[37mGET /api/v1/tiles/?d=a.9.249&d=a.9.250&s=bT8wci1RSKyd34y6SJYF_g HTTP/1.1\u001b[0m\" 200 -\n",
      "127.0.0.1 - - [06/Sep/2018 23:34:25] \"\u001b[37mOPTIONS /api/v1/tiles/?d=a.8.124&d=a.8.125&s=bT8wci1RSKyd34y6SJYF_g HTTP/1.1\u001b[0m\" 200 -\n",
      "127.0.0.1 - - [06/Sep/2018 23:34:25] \"\u001b[37mGET /api/v1/tiles/?d=a.8.124&d=a.8.125&s=bT8wci1RSKyd34y6SJYF_g HTTP/1.1\u001b[0m\" 200 -\n"
     ]
    },
    {
     "name": "stderr",
     "output_type": "stream",
     "text": [
      "127.0.0.1 - - [06/Sep/2018 23:34:28] \"\u001b[37mOPTIONS /api/v1/tiles/?d=a.7.62&s=bT8wci1RSKyd34y6SJYF_g HTTP/1.1\u001b[0m\" 200 -\n",
      "127.0.0.1 - - [06/Sep/2018 23:34:28] \"\u001b[37mGET /api/v1/tiles/?d=a.7.62&s=bT8wci1RSKyd34y6SJYF_g HTTP/1.1\u001b[0m\" 200 -\n",
      "127.0.0.1 - - [06/Sep/2018 23:34:29] \"\u001b[37mOPTIONS /api/v1/tiles/?d=a.6.31&d=a.6.30&s=bT8wci1RSKyd34y6SJYF_g HTTP/1.1\u001b[0m\" 200 -\n",
      "127.0.0.1 - - [06/Sep/2018 23:34:29] \"\u001b[37mGET /api/v1/tiles/?d=a.6.31&d=a.6.30&s=bT8wci1RSKyd34y6SJYF_g HTTP/1.1\u001b[0m\" 200 -\n",
      "127.0.0.1 - - [06/Sep/2018 23:34:29] \"\u001b[37mOPTIONS /api/v1/tiles/?d=a.5.15&s=bT8wci1RSKyd34y6SJYF_g HTTP/1.1\u001b[0m\" 200 -\n",
      "127.0.0.1 - - [06/Sep/2018 23:34:29] \"\u001b[37mGET /api/v1/tiles/?d=a.5.15&s=bT8wci1RSKyd34y6SJYF_g HTTP/1.1\u001b[0m\" 200 -\n",
      "127.0.0.1 - - [06/Sep/2018 23:34:29] \"\u001b[37mOPTIONS /api/v1/tiles/?d=a.4.7&s=bT8wci1RSKyd34y6SJYF_g HTTP/1.1\u001b[0m\" 200 -\n",
      "127.0.0.1 - - [06/Sep/2018 23:34:29] \"\u001b[37mGET /api/v1/tiles/?d=a.4.7&s=bT8wci1RSKyd34y6SJYF_g HTTP/1.1\u001b[0m\" 200 -\n",
      "127.0.0.1 - - [06/Sep/2018 23:34:30] \"\u001b[37mOPTIONS /api/v1/tiles/?d=a.4.8&s=bT8wci1RSKyd34y6SJYF_g HTTP/1.1\u001b[0m\" 200 -\n",
      "127.0.0.1 - - [06/Sep/2018 23:34:30] \"\u001b[37mGET /api/v1/tiles/?d=a.4.8&s=bT8wci1RSKyd34y6SJYF_g HTTP/1.1\u001b[0m\" 200 -\n",
      "127.0.0.1 - - [06/Sep/2018 23:34:30] \"\u001b[37mOPTIONS /api/v1/tiles/?d=a.3.3&d=a.3.4&s=bT8wci1RSKyd34y6SJYF_g HTTP/1.1\u001b[0m\" 200 -\n",
      "127.0.0.1 - - [06/Sep/2018 23:34:30] \"\u001b[37mGET /api/v1/tiles/?d=a.3.3&d=a.3.4&s=bT8wci1RSKyd34y6SJYF_g HTTP/1.1\u001b[0m\" 200 -\n",
      "127.0.0.1 - - [06/Sep/2018 23:34:31] \"\u001b[37mOPTIONS /api/v1/tiles/?d=a.2.1&d=a.2.2&s=bT8wci1RSKyd34y6SJYF_g HTTP/1.1\u001b[0m\" 200 -\n",
      "127.0.0.1 - - [06/Sep/2018 23:34:31] \"\u001b[37mGET /api/v1/tiles/?d=a.2.1&d=a.2.2&s=bT8wci1RSKyd34y6SJYF_g HTTP/1.1\u001b[0m\" 200 -\n",
      "127.0.0.1 - - [06/Sep/2018 23:34:31] \"\u001b[37mOPTIONS /api/v1/tiles/?d=a.1.0&d=a.1.1&d=a.0.0&s=bT8wci1RSKyd34y6SJYF_g HTTP/1.1\u001b[0m\" 200 -\n",
      "127.0.0.1 - - [06/Sep/2018 23:34:31] \"\u001b[37mGET /api/v1/tiles/?d=a.1.0&d=a.1.1&d=a.0.0&s=bT8wci1RSKyd34y6SJYF_g HTTP/1.1\u001b[0m\" 200 -\n",
      "127.0.0.1 - - [06/Sep/2018 23:34:35] \"\u001b[37mOPTIONS /api/v1/tiles/?d=a.1.0&d=a.1.1&s=bT8wci1RSKyd34y6SJYF_g HTTP/1.1\u001b[0m\" 200 -\n",
      "127.0.0.1 - - [06/Sep/2018 23:34:35] \"\u001b[37mGET /api/v1/tiles/?d=a.1.0&d=a.1.1&s=bT8wci1RSKyd34y6SJYF_g HTTP/1.1\u001b[0m\" 200 -\n",
      "127.0.0.1 - - [06/Sep/2018 23:34:36] \"\u001b[37mOPTIONS /api/v1/tiles/?d=a.2.1&d=a.2.2&s=bT8wci1RSKyd34y6SJYF_g HTTP/1.1\u001b[0m\" 200 -\n",
      "127.0.0.1 - - [06/Sep/2018 23:34:36] \"\u001b[37mGET /api/v1/tiles/?d=a.2.1&d=a.2.2&s=bT8wci1RSKyd34y6SJYF_g HTTP/1.1\u001b[0m\" 200 -\n",
      "127.0.0.1 - - [06/Sep/2018 23:34:36] \"\u001b[37mOPTIONS /api/v1/tiles/?d=a.3.3&d=a.3.4&s=bT8wci1RSKyd34y6SJYF_g HTTP/1.1\u001b[0m\" 200 -\n",
      "127.0.0.1 - - [06/Sep/2018 23:34:36] \"\u001b[37mGET /api/v1/tiles/?d=a.3.3&d=a.3.4&s=bT8wci1RSKyd34y6SJYF_g HTTP/1.1\u001b[0m\" 200 -\n",
      "127.0.0.1 - - [06/Sep/2018 23:34:37] \"\u001b[37mOPTIONS /api/v1/tiles/?d=a.4.7&d=a.4.8&s=bT8wci1RSKyd34y6SJYF_g HTTP/1.1\u001b[0m\" 200 -\n",
      "127.0.0.1 - - [06/Sep/2018 23:34:37] \"\u001b[37mGET /api/v1/tiles/?d=a.4.7&d=a.4.8&s=bT8wci1RSKyd34y6SJYF_g HTTP/1.1\u001b[0m\" 200 -\n",
      "127.0.0.1 - - [06/Sep/2018 23:34:37] \"\u001b[37mOPTIONS /api/v1/tiles/?d=a.5.15&s=bT8wci1RSKyd34y6SJYF_g HTTP/1.1\u001b[0m\" 200 -\n",
      "127.0.0.1 - - [06/Sep/2018 23:34:37] \"\u001b[37mGET /api/v1/tiles/?d=a.5.15&s=bT8wci1RSKyd34y6SJYF_g HTTP/1.1\u001b[0m\" 200 -\n",
      "127.0.0.1 - - [06/Sep/2018 23:34:38] \"\u001b[37mOPTIONS /api/v1/tiles/?d=a.6.30&d=a.6.31&s=bT8wci1RSKyd34y6SJYF_g HTTP/1.1\u001b[0m\" 200 -\n",
      "127.0.0.1 - - [06/Sep/2018 23:34:38] \"\u001b[37mGET /api/v1/tiles/?d=a.6.30&d=a.6.31&s=bT8wci1RSKyd34y6SJYF_g HTTP/1.1\u001b[0m\" 200 -\n",
      "127.0.0.1 - - [06/Sep/2018 23:34:38] \"\u001b[37mOPTIONS /api/v1/tiles/?d=a.7.62&s=bT8wci1RSKyd34y6SJYF_g HTTP/1.1\u001b[0m\" 200 -\n",
      "127.0.0.1 - - [06/Sep/2018 23:34:38] \"\u001b[37mGET /api/v1/tiles/?d=a.7.62&s=bT8wci1RSKyd34y6SJYF_g HTTP/1.1\u001b[0m\" 200 -\n",
      "127.0.0.1 - - [06/Sep/2018 23:34:38] \"\u001b[37mOPTIONS /api/v1/tiles/?d=a.8.124&d=a.8.125&s=bT8wci1RSKyd34y6SJYF_g HTTP/1.1\u001b[0m\" 200 -\n",
      "127.0.0.1 - - [06/Sep/2018 23:34:38] \"\u001b[37mGET /api/v1/tiles/?d=a.8.124&d=a.8.125&s=bT8wci1RSKyd34y6SJYF_g HTTP/1.1\u001b[0m\" 200 -\n",
      "127.0.0.1 - - [06/Sep/2018 23:34:39] \"\u001b[37mOPTIONS /api/v1/tiles/?d=a.9.249&d=a.9.250&s=bT8wci1RSKyd34y6SJYF_g HTTP/1.1\u001b[0m\" 200 -\n",
      "127.0.0.1 - - [06/Sep/2018 23:34:39] \"\u001b[37mGET /api/v1/tiles/?d=a.9.249&d=a.9.250&s=bT8wci1RSKyd34y6SJYF_g HTTP/1.1\u001b[0m\" 200 -\n",
      "127.0.0.1 - - [06/Sep/2018 23:34:40] \"\u001b[37mOPTIONS /api/v1/tiles/?d=a.8.124&d=a.8.125&d=a.7.62&s=bT8wci1RSKyd34y6SJYF_g HTTP/1.1\u001b[0m\" 200 -\n",
      "127.0.0.1 - - [06/Sep/2018 23:34:40] \"\u001b[37mGET /api/v1/tiles/?d=a.8.124&d=a.8.125&d=a.7.62&s=bT8wci1RSKyd34y6SJYF_g HTTP/1.1\u001b[0m\" 200 -\n",
      "127.0.0.1 - - [06/Sep/2018 23:34:40] \"\u001b[37mOPTIONS /api/v1/tiles/?d=a.6.31&d=a.6.30&d=a.5.15&s=bT8wci1RSKyd34y6SJYF_g HTTP/1.1\u001b[0m\" 200 -\n",
      "127.0.0.1 - - [06/Sep/2018 23:34:40] \"\u001b[37mGET /api/v1/tiles/?d=a.6.31&d=a.6.30&d=a.5.15&s=bT8wci1RSKyd34y6SJYF_g HTTP/1.1\u001b[0m\" 200 -\n",
      "127.0.0.1 - - [06/Sep/2018 23:34:41] \"\u001b[37mOPTIONS /api/v1/tiles/?d=a.4.7&d=a.4.8&s=bT8wci1RSKyd34y6SJYF_g HTTP/1.1\u001b[0m\" 200 -\n",
      "127.0.0.1 - - [06/Sep/2018 23:34:41] \"\u001b[37mGET /api/v1/tiles/?d=a.4.7&d=a.4.8&s=bT8wci1RSKyd34y6SJYF_g HTTP/1.1\u001b[0m\" 200 -\n",
      "127.0.0.1 - - [06/Sep/2018 23:34:42] \"\u001b[37mOPTIONS /api/v1/tiles/?d=a.3.3&d=a.3.4&s=bT8wci1RSKyd34y6SJYF_g HTTP/1.1\u001b[0m\" 200 -\n",
      "127.0.0.1 - - [06/Sep/2018 23:34:42] \"\u001b[37mGET /api/v1/tiles/?d=a.3.3&d=a.3.4&s=bT8wci1RSKyd34y6SJYF_g HTTP/1.1\u001b[0m\" 200 -\n",
      "127.0.0.1 - - [06/Sep/2018 23:34:42] \"\u001b[37mOPTIONS /api/v1/tiles/?d=a.2.1&d=a.2.2&s=bT8wci1RSKyd34y6SJYF_g HTTP/1.1\u001b[0m\" 200 -\n",
      "127.0.0.1 - - [06/Sep/2018 23:34:42] \"\u001b[37mGET /api/v1/tiles/?d=a.2.1&d=a.2.2&s=bT8wci1RSKyd34y6SJYF_g HTTP/1.1\u001b[0m\" 200 -\n",
      "127.0.0.1 - - [06/Sep/2018 23:34:43] \"\u001b[37mOPTIONS /api/v1/tiles/?d=a.1.0&d=a.1.1&s=bT8wci1RSKyd34y6SJYF_g HTTP/1.1\u001b[0m\" 200 -\n",
      "127.0.0.1 - - [06/Sep/2018 23:34:43] \"\u001b[37mGET /api/v1/tiles/?d=a.1.0&d=a.1.1&s=bT8wci1RSKyd34y6SJYF_g HTTP/1.1\u001b[0m\" 200 -\n",
      "127.0.0.1 - - [06/Sep/2018 23:34:44] \"\u001b[37mOPTIONS /api/v1/tiles/?d=a.2.1&d=a.2.2&s=bT8wci1RSKyd34y6SJYF_g HTTP/1.1\u001b[0m\" 200 -\n",
      "127.0.0.1 - - [06/Sep/2018 23:34:44] \"\u001b[37mGET /api/v1/tiles/?d=a.2.1&d=a.2.2&s=bT8wci1RSKyd34y6SJYF_g HTTP/1.1\u001b[0m\" 200 -\n",
      "127.0.0.1 - - [06/Sep/2018 23:34:44] \"\u001b[37mOPTIONS /api/v1/tiles/?d=a.3.3&d=a.3.4&s=bT8wci1RSKyd34y6SJYF_g HTTP/1.1\u001b[0m\" 200 -\n",
      "127.0.0.1 - - [06/Sep/2018 23:34:45] \"\u001b[37mGET /api/v1/tiles/?d=a.3.3&d=a.3.4&s=bT8wci1RSKyd34y6SJYF_g HTTP/1.1\u001b[0m\" 200 -\n",
      "127.0.0.1 - - [06/Sep/2018 23:34:45] \"\u001b[37mOPTIONS /api/v1/tiles/?d=a.4.7&d=a.4.8&s=bT8wci1RSKyd34y6SJYF_g HTTP/1.1\u001b[0m\" 200 -\n",
      "127.0.0.1 - - [06/Sep/2018 23:34:45] \"\u001b[37mGET /api/v1/tiles/?d=a.4.7&d=a.4.8&s=bT8wci1RSKyd34y6SJYF_g HTTP/1.1\u001b[0m\" 200 -\n",
      "127.0.0.1 - - [06/Sep/2018 23:36:44] \"\u001b[37mOPTIONS /api/v1/tileset_info/?d=a&s=Iy7_3OVWR5eab_NwaF567w HTTP/1.1\u001b[0m\" 200 -\n"
     ]
    },
    {
     "name": "stdout",
     "output_type": "stream",
     "text": [
      "filetype: hitile\n"
     ]
    },
    {
     "name": "stderr",
     "output_type": "stream",
     "text": [
      "127.0.0.1 - - [06/Sep/2018 23:36:44] \"\u001b[37mGET /api/v1/tileset_info/?d=a&s=Iy7_3OVWR5eab_NwaF567w HTTP/1.1\u001b[0m\" 200 -\n",
      "127.0.0.1 - - [06/Sep/2018 23:36:44] \"\u001b[37mOPTIONS /api/v1/tiles/?d=a.10.0&d=a.0.0&s=Iy7_3OVWR5eab_NwaF567w HTTP/1.1\u001b[0m\" 200 -\n",
      "127.0.0.1 - - [06/Sep/2018 23:36:44] \"\u001b[37mGET /api/v1/tiles/?d=a.10.0&d=a.0.0&s=Iy7_3OVWR5eab_NwaF567w HTTP/1.1\u001b[0m\" 200 -\n",
      "127.0.0.1 - - [06/Sep/2018 23:36:49] \"\u001b[37mOPTIONS /api/v1/tiles/?d=a.1.0&d=a.1.1&d=a.2.1&d=a.2.2&s=Iy7_3OVWR5eab_NwaF567w HTTP/1.1\u001b[0m\" 200 -\n",
      "127.0.0.1 - - [06/Sep/2018 23:36:49] \"\u001b[37mGET /api/v1/tiles/?d=a.1.0&d=a.1.1&d=a.2.1&d=a.2.2&s=Iy7_3OVWR5eab_NwaF567w HTTP/1.1\u001b[0m\" 200 -\n",
      "127.0.0.1 - - [06/Sep/2018 23:36:50] \"\u001b[37mOPTIONS /api/v1/tiles/?d=a.3.3&d=a.3.4&s=Iy7_3OVWR5eab_NwaF567w HTTP/1.1\u001b[0m\" 200 -\n",
      "127.0.0.1 - - [06/Sep/2018 23:36:50] \"\u001b[37mGET /api/v1/tiles/?d=a.3.3&d=a.3.4&s=Iy7_3OVWR5eab_NwaF567w HTTP/1.1\u001b[0m\" 200 -\n",
      "127.0.0.1 - - [06/Sep/2018 23:36:50] \"\u001b[37mOPTIONS /api/v1/tiles/?d=a.4.7&d=a.4.8&s=Iy7_3OVWR5eab_NwaF567w HTTP/1.1\u001b[0m\" 200 -\n",
      "127.0.0.1 - - [06/Sep/2018 23:36:50] \"\u001b[37mGET /api/v1/tiles/?d=a.4.7&d=a.4.8&s=Iy7_3OVWR5eab_NwaF567w HTTP/1.1\u001b[0m\" 200 -\n",
      "127.0.0.1 - - [06/Sep/2018 23:36:52] \"\u001b[37mOPTIONS /api/v1/tiles/?d=a.5.16&s=Iy7_3OVWR5eab_NwaF567w HTTP/1.1\u001b[0m\" 200 -\n",
      "127.0.0.1 - - [06/Sep/2018 23:36:52] \"\u001b[37mGET /api/v1/tiles/?d=a.5.16&s=Iy7_3OVWR5eab_NwaF567w HTTP/1.1\u001b[0m\" 200 -\n",
      "127.0.0.1 - - [06/Sep/2018 23:36:53] \"\u001b[37mOPTIONS /api/v1/tiles/?d=a.6.32&d=a.6.33&s=Iy7_3OVWR5eab_NwaF567w HTTP/1.1\u001b[0m\" 200 -\n",
      "127.0.0.1 - - [06/Sep/2018 23:36:53] \"\u001b[37mGET /api/v1/tiles/?d=a.6.32&d=a.6.33&s=Iy7_3OVWR5eab_NwaF567w HTTP/1.1\u001b[0m\" 200 -\n",
      "127.0.0.1 - - [06/Sep/2018 23:36:55] \"\u001b[37mOPTIONS /api/v1/tiles/?d=a.7.65&s=Iy7_3OVWR5eab_NwaF567w HTTP/1.1\u001b[0m\" 200 -\n",
      "127.0.0.1 - - [06/Sep/2018 23:36:55] \"\u001b[37mGET /api/v1/tiles/?d=a.7.65&s=Iy7_3OVWR5eab_NwaF567w HTTP/1.1\u001b[0m\" 200 -\n",
      "127.0.0.1 - - [06/Sep/2018 23:36:58] \"\u001b[37mOPTIONS /api/v1/tiles/?d=a.8.130&d=a.8.131&s=Iy7_3OVWR5eab_NwaF567w HTTP/1.1\u001b[0m\" 200 -\n",
      "127.0.0.1 - - [06/Sep/2018 23:36:58] \"\u001b[37mGET /api/v1/tiles/?d=a.8.130&d=a.8.131&s=Iy7_3OVWR5eab_NwaF567w HTTP/1.1\u001b[0m\" 200 -\n",
      "127.0.0.1 - - [06/Sep/2018 23:37:00] \"\u001b[37mOPTIONS /api/v1/tiles/?d=a.8.130&d=a.7.65&s=Iy7_3OVWR5eab_NwaF567w HTTP/1.1\u001b[0m\" 200 -\n",
      "127.0.0.1 - - [06/Sep/2018 23:37:00] \"\u001b[37mGET /api/v1/tiles/?d=a.8.130&d=a.7.65&s=Iy7_3OVWR5eab_NwaF567w HTTP/1.1\u001b[0m\" 200 -\n",
      "127.0.0.1 - - [06/Sep/2018 23:37:00] \"\u001b[37mOPTIONS /api/v1/tiles/?d=a.6.32&d=a.6.33&d=a.5.16&s=Iy7_3OVWR5eab_NwaF567w HTTP/1.1\u001b[0m\" 200 -\n",
      "127.0.0.1 - - [06/Sep/2018 23:37:00] \"\u001b[37mGET /api/v1/tiles/?d=a.6.32&d=a.6.33&d=a.5.16&s=Iy7_3OVWR5eab_NwaF567w HTTP/1.1\u001b[0m\" 200 -\n",
      "127.0.0.1 - - [06/Sep/2018 23:37:01] \"\u001b[37mOPTIONS /api/v1/tiles/?d=a.4.7&d=a.4.8&s=Iy7_3OVWR5eab_NwaF567w HTTP/1.1\u001b[0m\" 200 -\n",
      "127.0.0.1 - - [06/Sep/2018 23:37:01] \"\u001b[37mGET /api/v1/tiles/?d=a.4.7&d=a.4.8&s=Iy7_3OVWR5eab_NwaF567w HTTP/1.1\u001b[0m\" 200 -\n",
      "127.0.0.1 - - [06/Sep/2018 23:37:01] \"\u001b[37mOPTIONS /api/v1/tiles/?d=a.3.3&d=a.3.4&s=Iy7_3OVWR5eab_NwaF567w HTTP/1.1\u001b[0m\" 200 -\n",
      "127.0.0.1 - - [06/Sep/2018 23:37:01] \"\u001b[37mGET /api/v1/tiles/?d=a.3.3&d=a.3.4&s=Iy7_3OVWR5eab_NwaF567w HTTP/1.1\u001b[0m\" 200 -\n",
      "127.0.0.1 - - [06/Sep/2018 23:37:02] \"\u001b[37mOPTIONS /api/v1/tiles/?d=a.4.7&d=a.4.8&s=Iy7_3OVWR5eab_NwaF567w HTTP/1.1\u001b[0m\" 200 -\n",
      "127.0.0.1 - - [06/Sep/2018 23:37:02] \"\u001b[37mGET /api/v1/tiles/?d=a.4.7&d=a.4.8&s=Iy7_3OVWR5eab_NwaF567w HTTP/1.1\u001b[0m\" 200 -\n",
      "127.0.0.1 - - [06/Sep/2018 23:37:02] \"\u001b[37mOPTIONS /api/v1/tiles/?d=a.5.16&s=Iy7_3OVWR5eab_NwaF567w HTTP/1.1\u001b[0m\" 200 -\n",
      "127.0.0.1 - - [06/Sep/2018 23:37:02] \"\u001b[37mGET /api/v1/tiles/?d=a.5.16&s=Iy7_3OVWR5eab_NwaF567w HTTP/1.1\u001b[0m\" 200 -\n",
      "127.0.0.1 - - [06/Sep/2018 23:37:03] \"\u001b[37mOPTIONS /api/v1/tiles/?d=a.6.32&d=a.6.33&s=Iy7_3OVWR5eab_NwaF567w HTTP/1.1\u001b[0m\" 200 -\n",
      "127.0.0.1 - - [06/Sep/2018 23:37:03] \"\u001b[37mGET /api/v1/tiles/?d=a.6.32&d=a.6.33&s=Iy7_3OVWR5eab_NwaF567w HTTP/1.1\u001b[0m\" 200 -\n",
      "127.0.0.1 - - [06/Sep/2018 23:37:54] \"\u001b[37mOPTIONS /api/v1/tileset_info/?d=a&s=BtWDBzSpS1y8gFcUFYMjrA HTTP/1.1\u001b[0m\" 200 -\n"
     ]
    },
    {
     "name": "stdout",
     "output_type": "stream",
     "text": [
      "filetype: hitile\n"
     ]
    },
    {
     "name": "stderr",
     "output_type": "stream",
     "text": [
      "127.0.0.1 - - [06/Sep/2018 23:37:54] \"\u001b[37mGET /api/v1/tileset_info/?d=a&s=BtWDBzSpS1y8gFcUFYMjrA HTTP/1.1\u001b[0m\" 200 -\n",
      "127.0.0.1 - - [06/Sep/2018 23:37:54] \"\u001b[37mOPTIONS /api/v1/tiles/?d=a.10.0&d=a.0.0&s=BtWDBzSpS1y8gFcUFYMjrA HTTP/1.1\u001b[0m\" 200 -\n",
      "127.0.0.1 - - [06/Sep/2018 23:37:54] \"\u001b[37mGET /api/v1/tiles/?d=a.10.0&d=a.0.0&s=BtWDBzSpS1y8gFcUFYMjrA HTTP/1.1\u001b[0m\" 200 -\n",
      "127.0.0.1 - - [06/Sep/2018 23:37:56] \"\u001b[37mOPTIONS /api/v1/tiles/?d=a.1.0&d=a.1.1&s=BtWDBzSpS1y8gFcUFYMjrA HTTP/1.1\u001b[0m\" 200 -\n",
      "127.0.0.1 - - [06/Sep/2018 23:37:56] \"\u001b[37mGET /api/v1/tiles/?d=a.1.0&d=a.1.1&s=BtWDBzSpS1y8gFcUFYMjrA HTTP/1.1\u001b[0m\" 200 -\n",
      "127.0.0.1 - - [06/Sep/2018 23:37:56] \"\u001b[37mOPTIONS /api/v1/tiles/?d=a.2.1&d=a.2.2&d=a.3.3&d=a.3.4&s=BtWDBzSpS1y8gFcUFYMjrA HTTP/1.1\u001b[0m\" 200 -\n",
      "127.0.0.1 - - [06/Sep/2018 23:37:56] \"\u001b[37mGET /api/v1/tiles/?d=a.2.1&d=a.2.2&d=a.3.3&d=a.3.4&s=BtWDBzSpS1y8gFcUFYMjrA HTTP/1.1\u001b[0m\" 200 -\n",
      "127.0.0.1 - - [06/Sep/2018 23:37:57] \"\u001b[37mOPTIONS /api/v1/tiles/?d=a.4.7&d=a.4.8&s=BtWDBzSpS1y8gFcUFYMjrA HTTP/1.1\u001b[0m\" 200 -\n",
      "127.0.0.1 - - [06/Sep/2018 23:37:57] \"\u001b[37mGET /api/v1/tiles/?d=a.4.7&d=a.4.8&s=BtWDBzSpS1y8gFcUFYMjrA HTTP/1.1\u001b[0m\" 200 -\n",
      "127.0.0.1 - - [06/Sep/2018 23:38:07] \"\u001b[37mOPTIONS /api/v1/tileset_info/?d=a&s=YA6FnfktS-e6CJwFChYEsw HTTP/1.1\u001b[0m\" 200 -\n"
     ]
    },
    {
     "name": "stdout",
     "output_type": "stream",
     "text": [
      "filetype: hitile\n"
     ]
    },
    {
     "name": "stderr",
     "output_type": "stream",
     "text": [
      "127.0.0.1 - - [06/Sep/2018 23:38:07] \"\u001b[37mGET /api/v1/tileset_info/?d=a&s=YA6FnfktS-e6CJwFChYEsw HTTP/1.1\u001b[0m\" 200 -\n",
      "127.0.0.1 - - [06/Sep/2018 23:38:07] \"\u001b[37mOPTIONS /api/v1/tiles/?d=a.10.0&d=a.0.0&s=YA6FnfktS-e6CJwFChYEsw HTTP/1.1\u001b[0m\" 200 -\n",
      "127.0.0.1 - - [06/Sep/2018 23:38:07] \"\u001b[37mGET /api/v1/tiles/?d=a.10.0&d=a.0.0&s=YA6FnfktS-e6CJwFChYEsw HTTP/1.1\u001b[0m\" 200 -\n",
      "127.0.0.1 - - [06/Sep/2018 23:38:09] \"\u001b[37mOPTIONS /api/v1/tiles/?d=a.1.0&d=a.1.1&s=YA6FnfktS-e6CJwFChYEsw HTTP/1.1\u001b[0m\" 200 -\n",
      "127.0.0.1 - - [06/Sep/2018 23:38:09] \"\u001b[37mGET /api/v1/tiles/?d=a.1.0&d=a.1.1&s=YA6FnfktS-e6CJwFChYEsw HTTP/1.1\u001b[0m\" 200 -\n",
      "127.0.0.1 - - [06/Sep/2018 23:38:09] \"\u001b[37mOPTIONS /api/v1/tiles/?d=a.2.1&d=a.2.2&d=a.3.3&d=a.3.4&s=YA6FnfktS-e6CJwFChYEsw HTTP/1.1\u001b[0m\" 200 -\n",
      "127.0.0.1 - - [06/Sep/2018 23:38:09] \"\u001b[37mGET /api/v1/tiles/?d=a.2.1&d=a.2.2&d=a.3.3&d=a.3.4&s=YA6FnfktS-e6CJwFChYEsw HTTP/1.1\u001b[0m\" 200 -\n",
      "127.0.0.1 - - [06/Sep/2018 23:38:10] \"\u001b[37mOPTIONS /api/v1/tiles/?d=a.4.8&d=a.5.16&d=a.5.17&s=YA6FnfktS-e6CJwFChYEsw HTTP/1.1\u001b[0m\" 200 -\n",
      "127.0.0.1 - - [06/Sep/2018 23:38:10] \"\u001b[37mGET /api/v1/tiles/?d=a.4.8&d=a.5.16&d=a.5.17&s=YA6FnfktS-e6CJwFChYEsw HTTP/1.1\u001b[0m\" 200 -\n",
      "127.0.0.1 - - [06/Sep/2018 23:38:11] \"\u001b[37mOPTIONS /api/v1/tiles/?d=a.6.33&d=a.6.34&d=a.7.67&d=a.7.68&s=YA6FnfktS-e6CJwFChYEsw HTTP/1.1\u001b[0m\" 200 -\n",
      "127.0.0.1 - - [06/Sep/2018 23:38:11] \"\u001b[37mGET /api/v1/tiles/?d=a.6.33&d=a.6.34&d=a.7.67&d=a.7.68&s=YA6FnfktS-e6CJwFChYEsw HTTP/1.1\u001b[0m\" 200 -\n",
      "127.0.0.1 - - [06/Sep/2018 23:38:12] \"\u001b[37mOPTIONS /api/v1/tiles/?d=a.8.135&s=YA6FnfktS-e6CJwFChYEsw HTTP/1.1\u001b[0m\" 200 -\n",
      "127.0.0.1 - - [06/Sep/2018 23:38:12] \"\u001b[37mGET /api/v1/tiles/?d=a.8.135&s=YA6FnfktS-e6CJwFChYEsw HTTP/1.1\u001b[0m\" 200 -\n",
      "127.0.0.1 - - [06/Sep/2018 23:38:14] \"\u001b[37mOPTIONS /api/v1/tiles/?d=a.7.67&s=YA6FnfktS-e6CJwFChYEsw HTTP/1.1\u001b[0m\" 200 -\n",
      "127.0.0.1 - - [06/Sep/2018 23:38:14] \"\u001b[37mGET /api/v1/tiles/?d=a.7.67&s=YA6FnfktS-e6CJwFChYEsw HTTP/1.1\u001b[0m\" 200 -\n",
      "127.0.0.1 - - [06/Sep/2018 23:38:16] \"\u001b[37mOPTIONS /api/v1/tiles/?d=a.7.68&d=a.6.33&d=a.6.34&s=YA6FnfktS-e6CJwFChYEsw HTTP/1.1\u001b[0m\" 200 -\n",
      "127.0.0.1 - - [06/Sep/2018 23:38:16] \"\u001b[37mGET /api/v1/tiles/?d=a.7.68&d=a.6.33&d=a.6.34&s=YA6FnfktS-e6CJwFChYEsw HTTP/1.1\u001b[0m\" 200 -\n",
      "127.0.0.1 - - [06/Sep/2018 23:38:17] \"\u001b[37mOPTIONS /api/v1/tiles/?d=a.5.16&d=a.5.17&s=YA6FnfktS-e6CJwFChYEsw HTTP/1.1\u001b[0m\" 200 -\n",
      "127.0.0.1 - - [06/Sep/2018 23:38:17] \"\u001b[37mGET /api/v1/tiles/?d=a.5.16&d=a.5.17&s=YA6FnfktS-e6CJwFChYEsw HTTP/1.1\u001b[0m\" 200 -\n",
      "127.0.0.1 - - [06/Sep/2018 23:38:19] \"\u001b[37mOPTIONS /api/v1/tiles/?d=a.4.8&s=YA6FnfktS-e6CJwFChYEsw HTTP/1.1\u001b[0m\" 200 -\n",
      "127.0.0.1 - - [06/Sep/2018 23:38:19] \"\u001b[37mGET /api/v1/tiles/?d=a.4.8&s=YA6FnfktS-e6CJwFChYEsw HTTP/1.1\u001b[0m\" 200 -\n",
      "127.0.0.1 - - [06/Sep/2018 23:38:20] \"\u001b[37mOPTIONS /api/v1/tiles/?d=a.3.4&d=a.3.3&d=a.2.1&d=a.2.2&s=YA6FnfktS-e6CJwFChYEsw HTTP/1.1\u001b[0m\" 200 -\n",
      "127.0.0.1 - - [06/Sep/2018 23:38:20] \"\u001b[37mGET /api/v1/tiles/?d=a.3.4&d=a.3.3&d=a.2.1&d=a.2.2&s=YA6FnfktS-e6CJwFChYEsw HTTP/1.1\u001b[0m\" 200 -\n",
      "127.0.0.1 - - [06/Sep/2018 23:38:21] \"\u001b[37mOPTIONS /api/v1/tiles/?d=a.1.0&d=a.1.1&s=YA6FnfktS-e6CJwFChYEsw HTTP/1.1\u001b[0m\" 200 -\n",
      "127.0.0.1 - - [06/Sep/2018 23:38:21] \"\u001b[37mGET /api/v1/tiles/?d=a.1.0&d=a.1.1&s=YA6FnfktS-e6CJwFChYEsw HTTP/1.1\u001b[0m\" 200 -\n",
      "127.0.0.1 - - [06/Sep/2018 23:38:22] \"\u001b[37mOPTIONS /api/v1/tiles/?d=a.0.0&s=YA6FnfktS-e6CJwFChYEsw HTTP/1.1\u001b[0m\" 200 -\n",
      "127.0.0.1 - - [06/Sep/2018 23:38:22] \"\u001b[37mGET /api/v1/tiles/?d=a.0.0&s=YA6FnfktS-e6CJwFChYEsw HTTP/1.1\u001b[0m\" 200 -\n",
      "127.0.0.1 - - [06/Sep/2018 23:38:23] \"\u001b[37mOPTIONS /api/v1/tiles/?d=a.1.0&d=a.1.1&s=YA6FnfktS-e6CJwFChYEsw HTTP/1.1\u001b[0m\" 200 -\n",
      "127.0.0.1 - - [06/Sep/2018 23:38:23] \"\u001b[37mGET /api/v1/tiles/?d=a.1.0&d=a.1.1&s=YA6FnfktS-e6CJwFChYEsw HTTP/1.1\u001b[0m\" 200 -\n",
      "127.0.0.1 - - [06/Sep/2018 23:38:24] \"\u001b[37mOPTIONS /api/v1/tiles/?d=a.2.1&d=a.2.2&d=a.3.3&d=a.3.4&s=YA6FnfktS-e6CJwFChYEsw HTTP/1.1\u001b[0m\" 200 -\n",
      "127.0.0.1 - - [06/Sep/2018 23:38:24] \"\u001b[37mGET /api/v1/tiles/?d=a.2.1&d=a.2.2&d=a.3.3&d=a.3.4&s=YA6FnfktS-e6CJwFChYEsw HTTP/1.1\u001b[0m\" 200 -\n",
      "127.0.0.1 - - [06/Sep/2018 23:38:25] \"\u001b[37mOPTIONS /api/v1/tiles/?d=a.4.8&s=YA6FnfktS-e6CJwFChYEsw HTTP/1.1\u001b[0m\" 200 -\n",
      "127.0.0.1 - - [06/Sep/2018 23:38:25] \"\u001b[37mGET /api/v1/tiles/?d=a.4.8&s=YA6FnfktS-e6CJwFChYEsw HTTP/1.1\u001b[0m\" 200 -\n",
      "127.0.0.1 - - [06/Sep/2018 23:38:25] \"\u001b[37mOPTIONS /api/v1/tiles/?d=a.5.16&d=a.5.17&s=YA6FnfktS-e6CJwFChYEsw HTTP/1.1\u001b[0m\" 200 -\n",
      "127.0.0.1 - - [06/Sep/2018 23:38:25] \"\u001b[37mGET /api/v1/tiles/?d=a.5.16&d=a.5.17&s=YA6FnfktS-e6CJwFChYEsw HTTP/1.1\u001b[0m\" 200 -\n",
      "127.0.0.1 - - [06/Sep/2018 23:38:25] \"\u001b[37mOPTIONS /api/v1/tiles/?d=a.6.33&d=a.6.34&s=YA6FnfktS-e6CJwFChYEsw HTTP/1.1\u001b[0m\" 200 -\n",
      "127.0.0.1 - - [06/Sep/2018 23:38:25] \"\u001b[37mGET /api/v1/tiles/?d=a.6.33&d=a.6.34&s=YA6FnfktS-e6CJwFChYEsw HTTP/1.1\u001b[0m\" 200 -\n",
      "127.0.0.1 - - [06/Sep/2018 23:38:26] \"\u001b[37mOPTIONS /api/v1/tiles/?d=a.7.67&d=a.7.68&s=YA6FnfktS-e6CJwFChYEsw HTTP/1.1\u001b[0m\" 200 -\n",
      "127.0.0.1 - - [06/Sep/2018 23:38:26] \"\u001b[37mGET /api/v1/tiles/?d=a.7.67&d=a.7.68&s=YA6FnfktS-e6CJwFChYEsw HTTP/1.1\u001b[0m\" 200 -\n",
      "127.0.0.1 - - [06/Sep/2018 23:38:27] \"\u001b[37mOPTIONS /api/v1/tiles/?d=a.8.135&d=a.9.270&d=a.9.271&s=YA6FnfktS-e6CJwFChYEsw HTTP/1.1\u001b[0m\" 200 -\n",
      "127.0.0.1 - - [06/Sep/2018 23:38:27] \"\u001b[37mGET /api/v1/tiles/?d=a.8.135&d=a.9.270&d=a.9.271&s=YA6FnfktS-e6CJwFChYEsw HTTP/1.1\u001b[0m\" 200 -\n",
      "127.0.0.1 - - [06/Sep/2018 23:38:27] \"\u001b[37mOPTIONS /api/v1/tiles/?d=a.10.541&d=a.10.542&s=YA6FnfktS-e6CJwFChYEsw HTTP/1.1\u001b[0m\" 200 -\n",
      "127.0.0.1 - - [06/Sep/2018 23:38:27] \"\u001b[37mGET /api/v1/tiles/?d=a.10.541&d=a.10.542&s=YA6FnfktS-e6CJwFChYEsw HTTP/1.1\u001b[0m\" 200 -\n",
      "127.0.0.1 - - [06/Sep/2018 23:38:44] \"\u001b[37mOPTIONS /api/v1/tiles/?d=a.9.270&d=a.9.271&s=YA6FnfktS-e6CJwFChYEsw HTTP/1.1\u001b[0m\" 200 -\n",
      "127.0.0.1 - - [06/Sep/2018 23:38:44] \"\u001b[37mGET /api/v1/tiles/?d=a.9.270&d=a.9.271&s=YA6FnfktS-e6CJwFChYEsw HTTP/1.1\u001b[0m\" 200 -\n",
      "127.0.0.1 - - [06/Sep/2018 23:38:45] \"\u001b[37mOPTIONS /api/v1/tiles/?d=a.8.135&s=YA6FnfktS-e6CJwFChYEsw HTTP/1.1\u001b[0m\" 200 -\n",
      "127.0.0.1 - - [06/Sep/2018 23:38:45] \"\u001b[37mGET /api/v1/tiles/?d=a.8.135&s=YA6FnfktS-e6CJwFChYEsw HTTP/1.1\u001b[0m\" 200 -\n",
      "127.0.0.1 - - [06/Sep/2018 23:38:46] \"\u001b[37mOPTIONS /api/v1/tiles/?d=a.7.67&d=a.7.68&s=YA6FnfktS-e6CJwFChYEsw HTTP/1.1\u001b[0m\" 200 -\n",
      "127.0.0.1 - - [06/Sep/2018 23:38:46] \"\u001b[37mGET /api/v1/tiles/?d=a.7.67&d=a.7.68&s=YA6FnfktS-e6CJwFChYEsw HTTP/1.1\u001b[0m\" 200 -\n",
      "127.0.0.1 - - [06/Sep/2018 23:38:47] \"\u001b[37mOPTIONS /api/v1/tiles/?d=a.6.33&d=a.6.34&s=YA6FnfktS-e6CJwFChYEsw HTTP/1.1\u001b[0m\" 200 -\n",
      "127.0.0.1 - - [06/Sep/2018 23:38:47] \"\u001b[37mGET /api/v1/tiles/?d=a.6.33&d=a.6.34&s=YA6FnfktS-e6CJwFChYEsw HTTP/1.1\u001b[0m\" 200 -\n",
      "127.0.0.1 - - [06/Sep/2018 23:38:48] \"\u001b[37mOPTIONS /api/v1/tiles/?d=a.5.16&d=a.5.17&s=YA6FnfktS-e6CJwFChYEsw HTTP/1.1\u001b[0m\" 200 -\n",
      "127.0.0.1 - - [06/Sep/2018 23:38:48] \"\u001b[37mGET /api/v1/tiles/?d=a.5.16&d=a.5.17&s=YA6FnfktS-e6CJwFChYEsw HTTP/1.1\u001b[0m\" 200 -\n",
      "127.0.0.1 - - [06/Sep/2018 23:38:49] \"\u001b[37mOPTIONS /api/v1/tiles/?d=a.4.8&s=YA6FnfktS-e6CJwFChYEsw HTTP/1.1\u001b[0m\" 200 -\n",
      "127.0.0.1 - - [06/Sep/2018 23:38:49] \"\u001b[37mGET /api/v1/tiles/?d=a.4.8&s=YA6FnfktS-e6CJwFChYEsw HTTP/1.1\u001b[0m\" 200 -\n",
      "127.0.0.1 - - [06/Sep/2018 23:38:50] \"\u001b[37mOPTIONS /api/v1/tiles/?d=a.3.4&d=a.3.3&s=YA6FnfktS-e6CJwFChYEsw HTTP/1.1\u001b[0m\" 200 -\n",
      "127.0.0.1 - - [06/Sep/2018 23:38:50] \"\u001b[37mGET /api/v1/tiles/?d=a.3.4&d=a.3.3&s=YA6FnfktS-e6CJwFChYEsw HTTP/1.1\u001b[0m\" 200 -\n",
      "127.0.0.1 - - [06/Sep/2018 23:38:51] \"\u001b[37mOPTIONS /api/v1/tiles/?d=a.4.8&s=YA6FnfktS-e6CJwFChYEsw HTTP/1.1\u001b[0m\" 200 -\n",
      "127.0.0.1 - - [06/Sep/2018 23:38:51] \"\u001b[37mGET /api/v1/tiles/?d=a.4.8&s=YA6FnfktS-e6CJwFChYEsw HTTP/1.1\u001b[0m\" 200 -\n",
      "127.0.0.1 - - [06/Sep/2018 23:38:51] \"\u001b[37mOPTIONS /api/v1/tiles/?d=a.5.16&d=a.5.17&s=YA6FnfktS-e6CJwFChYEsw HTTP/1.1\u001b[0m\" 200 -\n",
      "127.0.0.1 - - [06/Sep/2018 23:38:52] \"\u001b[37mGET /api/v1/tiles/?d=a.5.16&d=a.5.17&s=YA6FnfktS-e6CJwFChYEsw HTTP/1.1\u001b[0m\" 200 -\n"
     ]
    }
   ],
   "source": [
    "import hgflask\n",
    "\n",
    "tilesets = [{\n",
    "    'filetype': 'hitile',\n",
    "    'filepath': output_file,\n",
    "    'uuid': 'a'\n",
    "}]\n",
    "\n",
    "server = hgflask.start(tilesets, port=8757)"
   ]
  },
  {
   "cell_type": "code",
   "execution_count": 27,
   "metadata": {},
   "outputs": [
    {
     "data": {
      "text/plain": [
       "{'dense': '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',\n",
       " 'dtype': 'float32',\n",
       " 'maxs': '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',\n",
       " 'mins': 'SS3ZOXXazDhTti052c67OuKMcDkPGiA5VB4jOncojjrMN7c57vs/OHgTdDs0Zj45LLWPORVgvDkhH0o44gvAOoreyDrC+GA6FGGsOBprlzqdsK46LCnKOf61rDobAQs6oMGGOhPUVjrymqk5w7zYOhcdPDrwZHk7dBy8OsNHfzuFZjo5EIOEOvW3ozllX0A4RvBSOxIotTkmpu86KjwJO/c8ozrrJlw6JnjCOncNVTpTask6MvylOU2iIjuV/rU5QXiBO3DJUzlRWbk50w5SNy0ByziWKkY7ajr9OWJ3uzl1Wyk4Dvk3OtjUgznB2bA5vTqFO7PW1jgeMZU5C3c3OhxICzpVtXI6CHgkOh1dZDouWeo5OgMMOl+5ejrVU9g57y/YOLC9tjqSqAw7ywNNOwMcrDhFxK45wFNCOGKe/DjD0bk6Nyi3OT3oyDgocWE6qAuyOt/ekjoqJPA5H72tN5qOVzm10BI4IHyZOJf8OjqAj24734SeOXyANzk0CUU6rcN2OSfWgDl37sE5oeLCOah6GjkXtoU60qCKObW06TZRF+k6SRUuO8Akxzkmx547O40EOhCiGTerSs44SBUcOUZ5/Tn0f+M6XbS5OogNDDukSkI57zjROqXzSTqfJpA6ITcQOt26GjtPinY6O+iiOb0BBjoN7gA6zOaIOc+jDDurlpA6RwfLOWMNGTrATAw732hEOT1VKTohWdw6OAe2OmlwQDa7BY86ORk3OwaI8Tk5Wtg6Ld7fODoaJzqMXiw748XZOV071TpsrqE53+ynO/K77zlASas5ylhxOKrPzDrAUJ86doQJOrgTkzlRjsM5OD0tOXvpBDvwkxo6XOUWO1yirjr0AQ86UIwkOrUchztZ+lg4iLJMOsMzYToIgQY6UxlXOW57yTmQhss6NUASOwFxHDtE5h07oD1UOtCiBzhqOPY679bBOc/eyDe5+oo59k8TOkhqKzqXBIo6mcGBOmxyYjkj5j054YrUOFqGOzvjrkA6NcekOiElDjs26oE6CrXuOQpjxzrBfvQ5AEsnOiFXCTkJZXU6W907Oy2ZwDpc0+o5KxmDOv09sDoGiwI7ovTiObUHDjoXApA4hNL1OqJlxzr1jI47GQ0DOi5RODpk0cI6kFvBNs1aoDnT7p45+3VWO6afXDnG5Wc5W9MkOcOpSTpHQJE6mNCvOqTLFzsFIIA5VW5+Oaf55Tki1Jw4tP+6OWveBju4o5U6cpkwO9Ow6jkMPAo6FTNTOO73WztmT8U2CnboOcFgjDm+udU5xdkIOpkSgDqMUcY5hl66Og6CSDooass57TIYO3LAmjozhY85RpapOom4Nzqc9a05xML1OJAcXTm7pYo7ZgCcOY51gzkHdaw63uKjOd7ZaToe1Qo6Hsq3OKuYODsBKYo7kooTOvqsBDu08RM6tcLHN48J1TlDJeY5Peq8OlykIDlH0wc6UR0VOkHP2zosikI4LZSNOQFWxTqRsmk6gARNOlFJITqbPXo5c8WDOjinaDvN8cc5IDYQOmSkiTqG8WM6dT3zOFpJrzog6QA51s6oOj1vCTqQnrc6eGWDOrabWDtFsQY6nACSOfGUlzrZmL85VqxXOaGgZDkQ1vI5pq5BOSwY3Dl7Qi87m46eOjcvXTsMaO46TTpKOm2QGDp4moI51aoMO3kRaDlvU046RV5DOINrvTkHxKk6JrJ+OiipIDts36c54IZxOrb2cjqmLww6Om6eOmGbVDkJQ3E6hoJEOclZwzqSeGU7uMonOx5K/jnYe085euNIOmRUMzsBDWI6icH1OWkPDzhqnq45YxueOgA1LDnygQY6lZrkOleIHTqJo1U6ApGLOiq6pjrXwWs6CsBKO9s2Djs2D8052ekVO+VBCDrEijI76E0OO+8bhzqyj2Q6+mr6OHbReTq3sZw5fs9xN/qhEDvehRQ7oTmIOqiolTr07fk3kYWSOXGSJjjaI8w5kXb+OmVokzlu5KU3x4zHOarcMzr5H7o6icYHOuJ9pjr0xIQ5j3QfOuwdPzkZtlk57tMFOqjTLTt7Uhg7UeCVOqTS5jrUWTM6Yvp+OKvjrDrxBk06PbLHOtXfsjm6+bc6sDG3Oe0rNTppvWU6ETnKOSUWHTshlOI64fLuOsBSzTkp2Pw5NSgqOpACuzqpcYE7LH7qOrLT6jgnMg06KHu+OfnTBTv0lwk7e9wEO5iUNzkzYjQ42Y33Os6cFzsn7Io57zrJOg8IFDr6ZoQ6ggJMOgmPQjqldmQ49IKCOWKSoznmEow5WhaFOehKTDnhhBA6mKCtOKD3hTkdDxM5tsmmOdhUOjr4ews7Z/50Or8ntjmrW4c6+LgUOYoo6zpNNl86bELXOUGmHDljfY052weHOUgR3Dk3ZPU57mpHOYRBBDnD8YE7ChYCO3s+CzolASc7S72YOudV2jovFQg7m2qaOlzPlTkO3OE6zRDJOhxEGDnWDAY67KGLOkYGJzjh/pY6cOJlO+2OmjpA8w455E+MOw5tSzngM5U5u/BpOgO8QztbUHs5UaUIOovJlDpBbac6m0yZO+N5rjkgkVk6BzcnOhJqjDvK7S46H/RrOqYUgDkpcoY6d5UQOhY3kjrn5YI5msBUOn70Ljv6uo4634YbOjziWzpVDAk6PHZ7OZv0OzpwgIs5Y90xO5tcgTnVp6A5+WiiOg7rNDphnhI7jnhrOfUwWDlemgQ6FfHnOX1EfjvvuEw6ZvLnOsAIkDpLz/46FMJdObr1gDrZnRI7/0qZOYucNDpev845W6QFOpWPVjrVYrY6Pz3HOnxAHDkIMmw6AzhROekqKTuoFIk6RnDBOjCcBTsugEk5OkGlOgxK9Tj8zuY52/KHOsXnXDqDdwM6TYpBOKNysDrsYgk6MqzuOdgcIDpCar05cUoWO256YDlxt2A4+pWWOIPwoznr4Y86rBI2Om5BLzpBAZ84drXfOmS4jjnAn7M5J1LXOK+QCTrpbrY6vB+qOH79ljnNFoQ6Y0CEOj7Qaji0Dyw6/lyrOTcmkjVWA+I6o3qcOk210TgGsl06LbozOsoJaDqJPBE42L6aOmnxLTgaqoo612qpO4w+FznlXRQ7FxZaOnzbPDkzfSo60ikZOnf+PzpblOU5RqKYOpVm9ToGn646fQjVOhLkrDry79I69KO+OdjUxDpLhdQ4riExOlctTTt5NAg6s34QO1kAeTsZifA66PiJOU+2qTmccCY6vL37OsOhzziZIxE6e2QkO370dDpLKLo63ZA+Oe/XyTnNP106l0kAOpswYDri16E5FrfjONfJ9DoUnVU70WkDO4ix0zhFXKA79amjOQd8ATunnW45nomWOGz7fzrMdX06wSCAOn7w4jlIUUQ5GdbfOsvSbTs3O0Y5/V5GObc+pDlceTM7ubGuOONZEjqe8jY55wgjOv9L3Tq6rik62uyROWEnsTf8Eh45WCG7OSRATTqnQmc7sI56OhqdHzoDzLY3vzsOOwdDqTtqqLQ6eoK7OY1eEzm4s4o5LXaLORG6cjtQM4Q67VF9Or8Z3jkyhRs7yjK3OjLkADu277467CWEOQ6FWTeKNDc69/ZoOt2JDzuVedk5dEN3OLHriTkicfI5ba9pOQwIwDrs0s45ojxGOoEnYzhPEaM5UFugOLKAcTllx+k559SHOSle9Tpwo5s7Hc9cOlbzDDsSP206nreYO0cvpzovI5I50AOvOCZSJjtub/M6vtr5ORTFDTnE/Z06Lt/pOVWVDDnf5Eg6agAzO+F1xzl7noA5Se+VOCM1qTpgJqg6Q9yNOjJyRzhvpjw6OlKyOeJqTzrndys7PubwOHBrmTmkEhE7iwUwOvxxkzkHdH462Qq7OWnzrjotqYQ6iNweO4a/6DnoNlU7GcB/OjN+Rju3Iaw6AEWrOjfukjrKV+M5KUKwOUN8EDqMjRA7+UqQOLQeUzqtvgk79lf7NwXzgjmbK0w7Y7SjOubHETj8ZDs6chffOPXJBzoTVwA67WaoOtWl4zsDTKU6Z68YOrDuLDtftMw6OX04OmnABDqVShE6/hWMOWGzGjrHD1Y6ta/COhsiRDlPLks6nou2Or+xGTswmAk58vG4OWBVGDuER7g6c8JSOcwC0jmmTCc6CuloOA6HZDkeTgA7eVy2OUL2Dzo86T47vbAzOfgs5zkV4sQ6xD8gOqY0Yjlg8DU5lPrNOvySODqRHuc5gBI9Oo93nzpnzOY5J+gBOZfK7Tmaylw4JNKOOfpjEzqvoHE4l9LPOdZ9kDrqpZc5gtEAO+qruDnmmPc5ijdXOM3opzoprRo5gWEbOP8CtDgup0k6iyvHO04lcDlLbfw6ENzVOb+bmznlVuY6FyVtOTuM8zq5Y3Q7D8oLO0blljpnX4M5Rb1uOPJcZzkJx3g5ASBLO3ykIjudGos6fekSOjTXLTscKFA61Ve8OhzXvTp921g7ek5KOvIj/TjlXhY6MUsdOiXtmDs65Vo6beYSOb6njzooF9Y6uCItOtcfzzoHnKQ78iKOOY7BKDssnCA6N04UO5f78joNIUQ56JEgOSC3TDhh3Jg61iIOOp+0LjoaveU4qOQROQLx3DmHK1g5J07/Oe5Oizsavso6JNmuOmGjGjoFp704H5xEODkLizqh9iI7ndUEOUyvDjqWl7861JcMOl0DFDqjK8k5T2XCOVMypTgGv0A5HhcrOue3ujr4W1o6RL6vOt9vzTrW/Uo5rmI4Om4ADTqz/0A6VjoCOrQ6EjqFboY6PEciOvEpBjr9vdI6q90qOgbNQjpnCJA5CrdLOY1/lDoycc86YgzVOmHz+zpsJBA6P9qtOWohyjqK38E6H1AiOgi/DjpHk7w6+d4IN4jjwThXjBg6maAUOr/XwzoRdrI5q0IVOls/vzl6xxc5dPJCOc4IUTq7SIQ5Xw4sOn3gzDnQP4w6xrKBOCt9AjpQ5ts6sko/OpL1QTkO/0Q5RpQGOBgbzjpwb446kjvjOrbAiTkkcUg6vPAgOx/nvzqzTRI754ihOmzLhDd040A5/JQMOgFTMjpH4rw4MOE0OnIZjTl1WJ07g44FOy0I5Tlg9rw51IGHOqCzOzoXrS47uyCPOhX/vzm6ILM5u69dOrJksjqn1ck51dBIOdgNCzpT4DY6KZKMOuGCfzlhiSA7qaEVOSZYETqWyAI7yAsGOqhLkjrvxhY7ORrbOdQZKTs8kSw4WTfgOu3ApDqUlyk6+E8NOSNFCzo='}"
      ]
     },
     "execution_count": 27,
     "metadata": {},
     "output_type": "execute_result"
    }
   ],
   "source": [
    "server.tiles('a', 0, 0)"
   ]
  },
  {
   "cell_type": "code",
   "execution_count": 28,
   "metadata": {},
   "outputs": [
    {
     "data": {
      "text/plain": [
       "'{\"editable\": true, \"views\": [{\"uid\": \"DQWvbioiQ4azF-BOtPBO8A\", \"tracks\": {\"top\": [{\"type\": \"min-max-line-track\", \"options\": {}, \"server\": \"http://localhost:8757/api/v1\", \"tilesetUid\": \"a\"}], \"center\": [], \"left\": [], \"right\": [], \"bottom\": []}, \"layout\": {\"w\": 12, \"h\": 6, \"x\": 0, \"y\": 0}}], \"trackSourceServers\": [\"http://higlass.io/api/v1\"], \"exportViewUrl\": \"http://higlass.io/api/v1/viewconfs\"}'"
      ]
     },
     "execution_count": 28,
     "metadata": {},
     "output_type": "execute_result"
    }
   ],
   "source": [
    "import hgflask.client as hfc\n",
    "hgc = hfc.HiGlassConfig()\n",
    "view_uid = hgc.add_view()\n",
    "\n",
    "hgc.add_track(view_uid, 'min-max-line-track', 'top', \n",
    "             'http://localhost:{}/api/v1'.format(server.port),\n",
    "             'a')\n",
    "hgc.to_json_string()"
   ]
  },
  {
   "cell_type": "code",
   "execution_count": null,
   "metadata": {
    "collapsed": true
   },
   "outputs": [],
   "source": []
  }
 ],
 "metadata": {
  "kernelspec": {
   "display_name": "Python 3",
   "language": "python",
   "name": "python3"
  },
  "language_info": {
   "codemirror_mode": {
    "name": "ipython",
    "version": 3
   },
   "file_extension": ".py",
   "mimetype": "text/x-python",
   "name": "python",
   "nbconvert_exporter": "python",
   "pygments_lexer": "ipython3",
   "version": "3.6.3"
  }
 },
 "nbformat": 4,
 "nbformat_minor": 2
}
